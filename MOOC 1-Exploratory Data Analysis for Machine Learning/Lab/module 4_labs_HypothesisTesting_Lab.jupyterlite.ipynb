{
  "cells": [
    {
      "cell_type": "markdown",
      "metadata": {},
      "source": [
        "<p style=\"text-align:center\">\n",
        "    <a href=\"https://skills.network/?utm_medium=Exinfluencer&utm_source=Exinfluencer&utm_content=000026UJ&utm_term=10006555&utm_id=NA-SkillsNetwork-Channel-SkillsNetworkCoursesIBMML0232ENSkillsNetwork30654641-2022-01-01\" target=\"_blank\">\n",
        "    <img src=\"https://cf-courses-data.s3.us.cloud-object-storage.appdomain.cloud/assets/logos/SN_web_lightmode.png\" width=\"200\" alt=\"Skills Network Logo\"  />\n",
        "    </a>\n",
        "</p>\n"
      ]
    },
    {
      "cell_type": "markdown",
      "metadata": {},
      "source": [
        "# **Hypothesis Testing**\n"
      ]
    },
    {
      "cell_type": "markdown",
      "metadata": {},
      "source": [
        "Estimated time needed: **30** minutes\n"
      ]
    },
    {
      "cell_type": "markdown",
      "metadata": {},
      "source": [
        "Leveraging customer information is of paramount importance for most businesses. Imagine that you are an insurance analyst (actuarian) who needs to assess the insurability or the risks of his/her customers. Part of your job is to look at customer attributes such as age, sex, BMI, smokers/non-smokers, location, etc., and to use them in your decision-making process on whether to churn or approve their claims.\n",
        "\n",
        "This lab will guide you through the series of steps in hypothesis testing to help you decide, using the statistical evidence, a certain effect of an attribute or a combination of attributes on the insurance claims. This lab will only introduce you to the initial steps in the decision making, before building the prediction models and classifiers.\n"
      ]
    },
    {
      "cell_type": "markdown",
      "metadata": {},
      "source": [
        "## Objectives\n"
      ]
    },
    {
      "cell_type": "markdown",
      "metadata": {},
      "source": [
        "After completing this lab you will be able to:\n"
      ]
    },
    {
      "cell_type": "markdown",
      "metadata": {},
      "source": [
        "*   Understand the elements of hypothesis testing\n",
        "    *   Choose a sample statistic\n",
        "    *   Define hypothesis\n",
        "    *   Set the decision criteria\n",
        "    *   Evaluate and interpret the results\n"
      ]
    },
    {
      "cell_type": "markdown",
      "metadata": {},
      "source": [
        "***\n"
      ]
    },
    {
      "cell_type": "markdown",
      "metadata": {},
      "source": [
        "## **Setup**\n"
      ]
    },
    {
      "cell_type": "markdown",
      "metadata": {},
      "source": [
        "For this lab, we will be using the following libraries:\n",
        "\n",
        "*   [`pandas`](https://pandas.pydata.org/?utm_medium=Exinfluencer&utm_source=Exinfluencer&utm_content=000026UJ&utm_term=10006555&utm_id=NA-SkillsNetwork-Channel-SkillsNetworkCoursesIBMML0232ENSkillsNetwork30654641-2022-01-01) for managing the data.\n",
        "*   [`numpy`](https://numpy.org/?utm_medium=Exinfluencer&utm_source=Exinfluencer&utm_content=000026UJ&utm_term=10006555&utm_id=NA-SkillsNetwork-Channel-SkillsNetworkCoursesIBMML0232ENSkillsNetwork30654641-2022-01-01) for mathematical operations.\n",
        "*   [`seaborn`](https://seaborn.pydata.org/?utm_medium=Exinfluencer&utm_source=Exinfluencer&utm_content=000026UJ&utm_term=10006555&utm_id=NA-SkillsNetwork-Channel-SkillsNetworkCoursesIBMML0232ENSkillsNetwork30654641-2022-01-01) for visualizing the data.\n",
        "*   [`matplotlib`](https://matplotlib.org/?utm_medium=Exinfluencer&utm_source=Exinfluencer&utm_content=000026UJ&utm_term=10006555&utm_id=NA-SkillsNetwork-Channel-SkillsNetworkCoursesIBMML0232ENSkillsNetwork30654641-2022-01-01) for visualizing the data.\n",
        "*   [`scipy.stats`](https://docs.scipy.org/doc/scipy/reference/stats.html/?utm_medium=Exinfluencer&utm_source=Exinfluencer&utm_content=000026UJ&utm_term=10006555&utm_id=NA-SkillsNetwork-Channel-SkillsNetworkCoursesIBMML0232ENSkillsNetwork30654641-2022-01-01) for statistical analysis.\n",
        "*   [`statsmodels`](https://www.statsmodels.org/stable/index.html/?utm_medium=Exinfluencer&utm_source=Exinfluencer&utm_content=000026UJ&utm_term=10006555&utm_id=NA-SkillsNetwork-Channel-SkillsNetworkCoursesIBMML0232ENSkillsNetwork30654641-2022-01-01) for statistical analysis.\n"
      ]
    },
    {
      "cell_type": "markdown",
      "metadata": {},
      "source": [
        "## **Installing Required Libraries**\n"
      ]
    },
    {
      "cell_type": "markdown",
      "metadata": {},
      "source": [
        "The following required modules are pre-installed in the Skills Network Labs environment. However if you run this notebook commands in a different Jupyter environment (e.g. Watson Studio or Ananconda) you will need to install these libraries by removing the `#` sign before `!mamba` in the code cell below.\n"
      ]
    },
    {
      "cell_type": "code",
      "execution_count": 78,
      "metadata": {
        "trusted": true
      },
      "outputs": [
        {
          "name": "stdout",
          "output_type": "stream",
          "text": [
            "Requirement already satisfied: pandas in c:\\users\\fptshop\\anaconda3\\lib\\site-packages (2.2.3)\n",
            "Requirement already satisfied: numpy in c:\\users\\fptshop\\anaconda3\\lib\\site-packages (2.1.3)\n",
            "Requirement already satisfied: seaborn in c:\\users\\fptshop\\anaconda3\\lib\\site-packages (0.13.2)\n",
            "Requirement already satisfied: matplotlib in c:\\users\\fptshop\\anaconda3\\lib\\site-packages (3.10.0)\n",
            "Requirement already satisfied: scipy in c:\\users\\fptshop\\anaconda3\\lib\\site-packages (1.15.3)\n",
            "Requirement already satisfied: statsmodels in c:\\users\\fptshop\\anaconda3\\lib\\site-packages (0.14.4)\n",
            "Requirement already satisfied: pingouin in c:\\users\\fptshop\\anaconda3\\lib\\site-packages (0.5.5)\n",
            "Note: you may need to restart the kernel to use updated packages.\n"
          ]
        },
        {
          "name": "stderr",
          "output_type": "stream",
          "text": [
            "ERROR: Could not find a version that satisfies the requirement piplite (from versions: none)\n",
            "ERROR: No matching distribution found for piplite\n"
          ]
        }
      ],
      "source": [
        "%pip install pandas numpy seaborn matplotlib scipy statsmodels pingouin piplite"
      ]
    },
    {
      "cell_type": "code",
      "execution_count": 79,
      "metadata": {
        "trusted": true
      },
      "outputs": [],
      "source": [
        "# Import required libraries for data analysis and visualization\n",
        "import numpy as np                 # For numerical computations\n",
        "import pandas as pd               # For data manipulation and analysis\n",
        "import seaborn as sns            # For statistical data visualization\n",
        "import matplotlib.pyplot as plt  # For creating plots\n",
        "import scipy.stats as stats     # For statistical tests\n",
        "import pingouin as pg           # For advanced statistical analysis"
      ]
    },
    {
      "cell_type": "code",
      "execution_count": 80,
      "metadata": {
        "trusted": true
      },
      "outputs": [],
      "source": [
        "import warnings \n",
        "warnings.filterwarnings('ignore')"
      ]
    },
    {
      "cell_type": "code",
      "execution_count": 81,
      "metadata": {
        "trusted": true
      },
      "outputs": [
        {
          "name": "stdout",
          "output_type": "stream",
          "text": [
            "Dataset loaded successfully!\n"
          ]
        }
      ],
      "source": [
        "# Load data from URL\n",
        "import requests\n",
        "import pandas as pd\n",
        "\n",
        "url = 'https://cf-courses-data.s3.us.cloud-object-storage.appdomain.cloud/IBM-ML0232EN-SkillsNetwork/asset/insurance.csv'\n",
        "\n",
        "# Read the CSV file directly from URL\n",
        "data = pd.read_csv(url)\n",
        "\n",
        "print(\"Dataset loaded successfully!\")"
      ]
    },
    {
      "cell_type": "markdown",
      "metadata": {},
      "source": [
        "## **Reading and understanding our data**\n"
      ]
    },
    {
      "cell_type": "markdown",
      "metadata": {},
      "source": [
        "For this lab, we will be using the <code>insurance.csv</code> file, hosted on IBM Cloud object.\n",
        "\n",
        "This dataset contains information about age, sex, BMI, the number of children, whether the client is smoker or non-smoker, region where the client lives, and the charges to their insurance company.\n"
      ]
    },
    {
      "cell_type": "markdown",
      "metadata": {},
      "source": [
        "Let's read the data into *pandas* data frame and look at the first 5 rows using the `head()` method.\n"
      ]
    },
    {
      "cell_type": "code",
      "execution_count": 82,
      "metadata": {
        "trusted": true
      },
      "outputs": [
        {
          "data": {
            "text/html": [
              "<div>\n",
              "<style scoped>\n",
              "    .dataframe tbody tr th:only-of-type {\n",
              "        vertical-align: middle;\n",
              "    }\n",
              "\n",
              "    .dataframe tbody tr th {\n",
              "        vertical-align: top;\n",
              "    }\n",
              "\n",
              "    .dataframe thead th {\n",
              "        text-align: right;\n",
              "    }\n",
              "</style>\n",
              "<table border=\"1\" class=\"dataframe\">\n",
              "  <thead>\n",
              "    <tr style=\"text-align: right;\">\n",
              "      <th></th>\n",
              "      <th>age</th>\n",
              "      <th>sex</th>\n",
              "      <th>bmi</th>\n",
              "      <th>children</th>\n",
              "      <th>smoker</th>\n",
              "      <th>region</th>\n",
              "      <th>charges</th>\n",
              "    </tr>\n",
              "  </thead>\n",
              "  <tbody>\n",
              "    <tr>\n",
              "      <th>0</th>\n",
              "      <td>19</td>\n",
              "      <td>female</td>\n",
              "      <td>27.900</td>\n",
              "      <td>0</td>\n",
              "      <td>yes</td>\n",
              "      <td>southwest</td>\n",
              "      <td>16884.92400</td>\n",
              "    </tr>\n",
              "    <tr>\n",
              "      <th>1</th>\n",
              "      <td>18</td>\n",
              "      <td>male</td>\n",
              "      <td>33.770</td>\n",
              "      <td>1</td>\n",
              "      <td>no</td>\n",
              "      <td>southeast</td>\n",
              "      <td>1725.55230</td>\n",
              "    </tr>\n",
              "    <tr>\n",
              "      <th>2</th>\n",
              "      <td>28</td>\n",
              "      <td>male</td>\n",
              "      <td>33.000</td>\n",
              "      <td>3</td>\n",
              "      <td>no</td>\n",
              "      <td>southeast</td>\n",
              "      <td>4449.46200</td>\n",
              "    </tr>\n",
              "    <tr>\n",
              "      <th>3</th>\n",
              "      <td>33</td>\n",
              "      <td>male</td>\n",
              "      <td>22.705</td>\n",
              "      <td>0</td>\n",
              "      <td>no</td>\n",
              "      <td>northwest</td>\n",
              "      <td>21984.47061</td>\n",
              "    </tr>\n",
              "    <tr>\n",
              "      <th>4</th>\n",
              "      <td>32</td>\n",
              "      <td>male</td>\n",
              "      <td>28.880</td>\n",
              "      <td>0</td>\n",
              "      <td>no</td>\n",
              "      <td>northwest</td>\n",
              "      <td>3866.85520</td>\n",
              "    </tr>\n",
              "  </tbody>\n",
              "</table>\n",
              "</div>"
            ],
            "text/plain": [
              "   age     sex     bmi  children smoker     region      charges\n",
              "0   19  female  27.900         0    yes  southwest  16884.92400\n",
              "1   18    male  33.770         1     no  southeast   1725.55230\n",
              "2   28    male  33.000         3     no  southeast   4449.46200\n",
              "3   33    male  22.705         0     no  northwest  21984.47061\n",
              "4   32    male  28.880         0     no  northwest   3866.85520"
            ]
          },
          "execution_count": 82,
          "metadata": {},
          "output_type": "execute_result"
        }
      ],
      "source": [
        "# Define URL for the dataset\n",
        "URL = 'https://cf-courses-data.s3.us.cloud-object-storage.appdomain.cloud/IBM-ML0232EN-SkillsNetwork/asset/insurance.csv'\n",
        "\n",
        "# Read the dataset directly from URL\n",
        "data = pd.read_csv(URL)\n",
        "\n",
        "# Display first few rows of the data\n",
        "data.head()"
      ]
    },
    {
      "cell_type": "markdown",
      "metadata": {},
      "source": [
        "By using `info` function, we will take a look at our types of data.\n"
      ]
    },
    {
      "cell_type": "code",
      "execution_count": 83,
      "metadata": {
        "trusted": true
      },
      "outputs": [
        {
          "name": "stdout",
          "output_type": "stream",
          "text": [
            "<class 'pandas.core.frame.DataFrame'>\n",
            "RangeIndex: 1338 entries, 0 to 1337\n",
            "Data columns (total 7 columns):\n",
            " #   Column    Non-Null Count  Dtype  \n",
            "---  ------    --------------  -----  \n",
            " 0   age       1338 non-null   int64  \n",
            " 1   sex       1338 non-null   object \n",
            " 2   bmi       1338 non-null   float64\n",
            " 3   children  1338 non-null   int64  \n",
            " 4   smoker    1338 non-null   object \n",
            " 5   region    1338 non-null   object \n",
            " 6   charges   1338 non-null   float64\n",
            "dtypes: float64(2), int64(2), object(3)\n",
            "memory usage: 73.3+ KB\n"
          ]
        }
      ],
      "source": [
        "# Display information about the dataset including data types and non-null counts\n",
        "data.info()"
      ]
    },
    {
      "cell_type": "markdown",
      "metadata": {},
      "source": [
        "The `describe()` function provides the statistical information about the numeric variables.\n"
      ]
    },
    {
      "cell_type": "code",
      "execution_count": 84,
      "metadata": {
        "trusted": true
      },
      "outputs": [
        {
          "data": {
            "text/html": [
              "<div>\n",
              "<style scoped>\n",
              "    .dataframe tbody tr th:only-of-type {\n",
              "        vertical-align: middle;\n",
              "    }\n",
              "\n",
              "    .dataframe tbody tr th {\n",
              "        vertical-align: top;\n",
              "    }\n",
              "\n",
              "    .dataframe thead th {\n",
              "        text-align: right;\n",
              "    }\n",
              "</style>\n",
              "<table border=\"1\" class=\"dataframe\">\n",
              "  <thead>\n",
              "    <tr style=\"text-align: right;\">\n",
              "      <th></th>\n",
              "      <th>age</th>\n",
              "      <th>bmi</th>\n",
              "      <th>children</th>\n",
              "      <th>charges</th>\n",
              "    </tr>\n",
              "  </thead>\n",
              "  <tbody>\n",
              "    <tr>\n",
              "      <th>count</th>\n",
              "      <td>1338.000000</td>\n",
              "      <td>1338.000000</td>\n",
              "      <td>1338.000000</td>\n",
              "      <td>1338.000000</td>\n",
              "    </tr>\n",
              "    <tr>\n",
              "      <th>mean</th>\n",
              "      <td>39.207025</td>\n",
              "      <td>30.663397</td>\n",
              "      <td>1.094918</td>\n",
              "      <td>13270.422265</td>\n",
              "    </tr>\n",
              "    <tr>\n",
              "      <th>std</th>\n",
              "      <td>14.049960</td>\n",
              "      <td>6.098187</td>\n",
              "      <td>1.205493</td>\n",
              "      <td>12110.011237</td>\n",
              "    </tr>\n",
              "    <tr>\n",
              "      <th>min</th>\n",
              "      <td>18.000000</td>\n",
              "      <td>15.960000</td>\n",
              "      <td>0.000000</td>\n",
              "      <td>1121.873900</td>\n",
              "    </tr>\n",
              "    <tr>\n",
              "      <th>25%</th>\n",
              "      <td>27.000000</td>\n",
              "      <td>26.296250</td>\n",
              "      <td>0.000000</td>\n",
              "      <td>4740.287150</td>\n",
              "    </tr>\n",
              "    <tr>\n",
              "      <th>50%</th>\n",
              "      <td>39.000000</td>\n",
              "      <td>30.400000</td>\n",
              "      <td>1.000000</td>\n",
              "      <td>9382.033000</td>\n",
              "    </tr>\n",
              "    <tr>\n",
              "      <th>75%</th>\n",
              "      <td>51.000000</td>\n",
              "      <td>34.693750</td>\n",
              "      <td>2.000000</td>\n",
              "      <td>16639.912515</td>\n",
              "    </tr>\n",
              "    <tr>\n",
              "      <th>max</th>\n",
              "      <td>64.000000</td>\n",
              "      <td>53.130000</td>\n",
              "      <td>5.000000</td>\n",
              "      <td>63770.428010</td>\n",
              "    </tr>\n",
              "  </tbody>\n",
              "</table>\n",
              "</div>"
            ],
            "text/plain": [
              "               age          bmi     children       charges\n",
              "count  1338.000000  1338.000000  1338.000000   1338.000000\n",
              "mean     39.207025    30.663397     1.094918  13270.422265\n",
              "std      14.049960     6.098187     1.205493  12110.011237\n",
              "min      18.000000    15.960000     0.000000   1121.873900\n",
              "25%      27.000000    26.296250     0.000000   4740.287150\n",
              "50%      39.000000    30.400000     1.000000   9382.033000\n",
              "75%      51.000000    34.693750     2.000000  16639.912515\n",
              "max      64.000000    53.130000     5.000000  63770.428010"
            ]
          },
          "execution_count": 84,
          "metadata": {},
          "output_type": "execute_result"
        }
      ],
      "source": [
        "data.describe()"
      ]
    },
    {
      "cell_type": "markdown",
      "metadata": {},
      "source": [
        "According to the brief preview of our data, we will define the 'charges' to be our response variable, and 'age', 'sex', 'bmi', 'children', 'smoker', and 'region' to be our predictor variables. In this lab, we will test how our predictor variables influence the insurance 'charges'.\n"
      ]
    },
    {
      "cell_type": "markdown",
      "metadata": {},
      "source": [
        "## **Steps in Hypothesis Testing**\n"
      ]
    },
    {
      "cell_type": "markdown",
      "metadata": {},
      "source": [
        "## Example 1\n",
        "\n",
        "In this first example, we will show how to prove (or disprove), with statistical evidence, that the BMI of females is different from that of males.\n"
      ]
    },
    {
      "cell_type": "markdown",
      "metadata": {},
      "source": [
        "### 1. Choose a sample statistic\n"
      ]
    },
    {
      "cell_type": "markdown",
      "metadata": {},
      "source": [
        "The first step in hypothesis testing is to choose a sample test statistic. Hypothesis testing allows us to check the sample statistic against a statistic of another sample or population. Let  𝜇1 be the population mean for BMI of males and 𝜇2 be the the population mean for BMI of females. We will compare these mean values, :$\\mu\\_{1}$ and $\\mu\\_{2}$, statistically.\n"
      ]
    },
    {
      "cell_type": "markdown",
      "metadata": {},
      "source": [
        "### 2. Define hypothesis (Null and Alternative)\n"
      ]
    },
    {
      "cell_type": "markdown",
      "metadata": {},
      "source": [
        "The next step is to define the hypothesis to be tested. Hypothesis is defined in two ways - null hypothesis and alternative hypothesis. Null hypothesis is a statistical hypothesis which assumes that the difference in observations is due to a random factor. It is denoted by Ho. Alternative hypothesis is the opposite of null hypothesis. It assumes that the difference in observations is the result of a real effect. The alternate hypothesis is denoted by H1.\n"
      ]
    },
    {
      "cell_type": "markdown",
      "metadata": {},
      "source": [
        "$ 𝐻\\_{0}:\\mu\\_{1}-\\mu\\_{2} = 0 $ There is no difference between the BMI of male and BMI of female. \\\n",
        "$ 𝐻\\_{A}:\\mu\\_{1}-\\mu\\_{2} != 0 $ There is difference between the BMI of male and BMI of female.\n"
      ]
    },
    {
      "cell_type": "markdown",
      "metadata": {},
      "source": [
        "The equal sign in the null hypothesis indicates that it is a 2-tailed test.\n"
      ]
    },
    {
      "cell_type": "markdown",
      "metadata": {},
      "source": [
        "### 3. Set the decision criteria\n"
      ]
    },
    {
      "cell_type": "markdown",
      "metadata": {},
      "source": [
        "![](https://cf-courses-data.s3.us.cloud-object-storage.appdomain.cloud/IBM-ML0232EN-SkillsNetwork/asset/Hypothesis_Testing\\_3.png)\n"
      ]
    },
    {
      "cell_type": "markdown",
      "metadata": {},
      "source": [
        "To set the criteria for a decision, we state the level of significance for a test. It could be 5%, 1% or 0.5%. Based on the level of significance, we can make a decision whether to accept the null hypothesis and reject the alternate, and vise versa.\n",
        "\n",
        "The diagram above describes the principles of hypothesis testing. We will choose 5% significance level. Therefore, our $ \\alpha=0.05 $. Since we have a 2-tailed test, we have to divide alpha by 2, which gives us 0.025. So, if the calculated p-value is less than alpha, we will reject the null hypothesis. The significance level is based on the business requirements. If you would like to learn more about the statistical significance, please visit this [wikipedia link](https://en.wikipedia.org/wiki/Statistical_significance?utm_medium=Exinfluencer&utm_source=Exinfluencer&utm_content=000026UJ&utm_term=10006555&utm_id=NA-SkillsNetwork-Channel-SkillsNetworkCoursesIBMML0232ENSkillsNetwork30654641-2022-01-01).\n",
        "\n",
        "In this lab, we will use one of the t-test, z-score, f-score or chi-squared statistics to evaluate our results.\n",
        "\n",
        "A t-test is used for testing the mean of one population against a standard or comparing the means of two populations if you do not know standard deviation of the the population and when you have a limited sample (n < 30). If you know the standard deviation of the populations , you may use a z-test.\n",
        "\n",
        "A z-test is used for testing the mean of a population versus a standard, or comparing the means of two populations, with large (n ≥ 30) samples, whether you know the population standard deviation or not. It is also used for testing the proportion of some characteristic versus a standard proportion, or comparing the proportions of two populations.\n",
        "\n",
        "An f-test is used to compare variances between 2 populations. The samples can be any size. It is the basis of ANOVA.\n",
        "\n",
        "chi-squared test is used to determine whether there is a statistically significant difference between the expected and the observed frequencies in one or more categories of a contingency table. A contingency table is a tabular representation of categorical data. It shows the frequency distribution of the variables.\n",
        "\n",
        "To learn more about [t-test](https://en.wikipedia.org/wiki/Student%27s_t-test?utm_medium=Exinfluencer&utm_source=Exinfluencer&utm_content=000026UJ&utm_term=10006555&utm_id=NA-SkillsNetwork-Channel-SkillsNetworkCoursesIBMML0232ENSkillsNetwork30654641-2022-01-01), [z-score](), [f-score](https://en.wikipedia.org/wiki/F-test?utm_medium=Exinfluencer&utm_source=Exinfluencer&utm_content=000026UJ&utm_term=10006555&utm_id=NA-SkillsNetwork-Channel-SkillsNetworkCoursesIBMML0232ENSkillsNetwork30654641-2022-01-01) or [chi-squared](https://en.wikipedia.org/wiki/Chi-squared_test?utm_medium=Exinfluencer&utm_source=Exinfluencer&utm_content=000026UJ&utm_term=10006555&utm_id=NA-SkillsNetwork-Channel-SkillsNetworkCoursesIBMML0232ENSkillsNetwork30654641-2022-01-01) statistics and [contingency tables](https://en.wikipedia.org/wiki/Contingency_table?utm_medium=Exinfluencer&utm_source=Exinfluencer&utm_content=000026UJ&utm_term=10006555&utm_id=NA-SkillsNetwork-Channel-SkillsNetworkCoursesIBMML0232ENSkillsNetwork30654641-2022-01-01), please visit their corresponding wikipedia links.\n"
      ]
    },
    {
      "cell_type": "markdown",
      "metadata": {},
      "source": [
        "### 4. Evaluate and interpret the result\n"
      ]
    },
    {
      "cell_type": "markdown",
      "metadata": {},
      "source": [
        "First, let's get all observations for females and males by using the `loc()` function.\n"
      ]
    },
    {
      "cell_type": "code",
      "execution_count": 85,
      "metadata": {
        "trusted": true
      },
      "outputs": [
        {
          "name": "stdout",
          "output_type": "stream",
          "text": [
            "Female BMI statistics:\n",
            "count    662.000000\n",
            "mean      30.377749\n",
            "std        6.046023\n",
            "min       16.815000\n",
            "25%       26.125000\n",
            "50%       30.107500\n",
            "75%       34.313750\n",
            "max       48.070000\n",
            "Name: bmi, dtype: float64\n",
            "\n",
            "Male BMI statistics:\n",
            "count    676.000000\n",
            "mean      30.943129\n",
            "std        6.140435\n",
            "min       15.960000\n",
            "25%       26.410000\n",
            "50%       30.687500\n",
            "75%       34.992500\n",
            "max       53.130000\n",
            "Name: bmi, dtype: float64\n"
          ]
        }
      ],
      "source": [
        "# Create separate dataframes for females and males\n",
        "female = data[data['sex'] == 'female']\n",
        "male = data[data['sex'] == 'male']\n",
        "\n",
        "# Extract BMI data for each gender\n",
        "f_bmi = female['bmi']\n",
        "m_bmi = male['bmi']\n",
        "\n",
        "# Set significance level\n",
        "alpha = 0.05\n",
        "\n",
        "# Print summary statistics\n",
        "print(\"Female BMI statistics:\")\n",
        "print(f_bmi.describe())\n",
        "print(\"\\nMale BMI statistics:\")\n",
        "print(m_bmi.describe())"
      ]
    },
    {
      "cell_type": "code",
      "execution_count": 86,
      "metadata": {},
      "outputs": [],
      "source": [
        "# Split BMI data by gender\n",
        "f_bmi = insurance_df[insurance_df['sex'] == 'female']['bmi']\n",
        "m_bmi = insurance_df[insurance_df['sex'] == 'male']['bmi']"
      ]
    },
    {
      "cell_type": "markdown",
      "metadata": {},
      "source": [
        "Now, let's select the bmi values for females and males.\n"
      ]
    },
    {
      "cell_type": "code",
      "execution_count": 87,
      "metadata": {
        "trusted": true
      },
      "outputs": [],
      "source": [
        "f_bmi = female.bmi\n",
        "m_bmi = male.bmi"
      ]
    },
    {
      "cell_type": "markdown",
      "metadata": {},
      "source": [
        "Now, we will plot the distribution of 'bmi' values for females and males using seaborn's `distplot()` function.\n"
      ]
    },
    {
      "cell_type": "code",
      "execution_count": 88,
      "metadata": {
        "trusted": true
      },
      "outputs": [
        {
          "data": {
            "image/png": "[encoded data removed]",
            "text/plain": [
              "<Figure size 1000x600 with 1 Axes>"
            ]
          },
          "metadata": {},
          "output_type": "display_data"
        }
      ],
      "source": [
        "# Create density plots to compare BMI distribution between males and females\n",
        "plt.figure(figsize=(10, 6))\n",
        "sns.kdeplot(data=f_bmi, color='green', label='Female BMI')\n",
        "sns.kdeplot(data=m_bmi, color='red', label='Male BMI')\n",
        "plt.title('BMI Distribution by Gender')\n",
        "plt.xlabel('BMI')\n",
        "plt.ylabel('Density')\n",
        "plt.legend()\n",
        "plt.grid(True)\n",
        "plt.show()"
      ]
    },
    {
      "cell_type": "markdown",
      "metadata": {},
      "source": [
        "From the graph, we already see that the two distributions are very similar.\n"
      ]
    },
    {
      "cell_type": "markdown",
      "metadata": {},
      "source": [
        "Now, let's calculate the mean values for females and males bmi.\n"
      ]
    },
    {
      "cell_type": "code",
      "execution_count": 89,
      "metadata": {
        "trusted": true
      },
      "outputs": [
        {
          "data": {
            "text/plain": [
              "np.float64(30.37774924471299)"
            ]
          },
          "execution_count": 89,
          "metadata": {},
          "output_type": "execute_result"
        }
      ],
      "source": [
        "female.bmi.mean()"
      ]
    },
    {
      "cell_type": "code",
      "execution_count": 90,
      "metadata": {
        "trusted": true
      },
      "outputs": [
        {
          "data": {
            "text/plain": [
              "np.float64(30.943128698224854)"
            ]
          },
          "execution_count": 90,
          "metadata": {},
          "output_type": "execute_result"
        }
      ],
      "source": [
        "male.bmi.mean()"
      ]
    },
    {
      "cell_type": "markdown",
      "metadata": {},
      "source": [
        "Next, we will obtain our statistics, t-value and p-value. We will use `scipy.stats` library and `ttest_ind()` function to calculate these parameters.\n"
      ]
    },
    {
      "cell_type": "code",
      "execution_count": 91,
      "metadata": {
        "trusted": true
      },
      "outputs": [
        {
          "name": "stdout",
          "output_type": "stream",
          "text": [
            "t_value1 = -1.696752635752224 , p_value1 = 0.08997637178984932\n",
            "\n"
          ]
        }
      ],
      "source": [
        "# Perform t-test to compare BMI between males and females\n",
        "t_value1, p_value1 = stats.ttest_ind(f_bmi, m_bmi)  # Independent t-test\n",
        "print(f\"t_value1 = {t_value1} , p_value1 = {p_value1}\\n\")"
      ]
    },
    {
      "cell_type": "markdown",
      "metadata": {},
      "source": [
        "Next, although optional, it is useful to print 'if/else' statements to make our conclusions about the the hypothesis.\n"
      ]
    },
    {
      "cell_type": "code",
      "execution_count": 92,
      "metadata": {
        "trusted": true
      },
      "outputs": [
        {
          "name": "stdout",
          "output_type": "stream",
          "text": [
            "Conclusion: since p_value 0.08997637178984932 is greater than alpha 0.05 \n",
            "Fail to reject the null hypothesis that there is a difference between bmi of females and bmi of males.\n"
          ]
        }
      ],
      "source": [
        "if p_value1 <alpha:\n",
        "    print(\"Conclusion: since p_value {} is less than alpha {} \". format (p_value1,alpha))\n",
        "    print(\"Reject the null hypothesis that there is no difference between bmi of females and bmi of males.\")\n",
        "    \n",
        "else:\n",
        "    print(\"Conclusion: since p_value {} is greater than alpha {} \". format (p_value1,alpha))\n",
        "    print(\"Fail to reject the null hypothesis that there is a difference between bmi of females and bmi of males.\")"
      ]
    },
    {
      "cell_type": "markdown",
      "metadata": {},
      "source": [
        "Conclusion: We fail to reject the null hypothesis and can conclude that there is no difference between the female and male bmi.\n"
      ]
    },
    {
      "cell_type": "markdown",
      "metadata": {},
      "source": [
        "## Example 2\n",
        "\n",
        "In this example, we would like to prove (or disprove) that the medical claims made by the people who smoke are greater than those who don't.\n"
      ]
    },
    {
      "cell_type": "markdown",
      "metadata": {},
      "source": [
        "We will compare the mean values (𝜇) of population of people who smoke and those who do not smoke. First, we need to calculate the mean values of smoking and non smoking populations.\n"
      ]
    },
    {
      "cell_type": "code",
      "execution_count": 93,
      "metadata": {
        "trusted": true
      },
      "outputs": [
        {
          "name": "stdout",
          "output_type": "stream",
          "text": [
            "Mean charges for smokers: $32,050.23\n"
          ]
        }
      ],
      "source": [
        "# Split data by smoking status and calculate mean charges\n",
        "smoker_charges = data[data['smoker'] == 'yes']['charges']\n",
        "nonsmoker_charges = data[data['smoker'] == 'no']['charges']\n",
        "\n",
        "# Calculate mean charges for smokers\n",
        "smoker_mean = smoker_charges.mean()\n",
        "print(f\"Mean charges for smokers: ${smoker_mean:,.2f}\")"
      ]
    },
    {
      "cell_type": "code",
      "execution_count": 94,
      "metadata": {
        "trusted": true
      },
      "outputs": [],
      "source": [
        "nonsmoker = data.loc[data.smoker==\"no\"]\n",
        "nonsmoker_char = nonsmoker.charges"
      ]
    },
    {
      "cell_type": "markdown",
      "metadata": {},
      "source": [
        "## Exercise 1\n",
        "\n",
        "Calculate population mean of the nonsmokers.\n"
      ]
    },
    {
      "cell_type": "code",
      "execution_count": 95,
      "metadata": {
        "trusted": true
      },
      "outputs": [
        {
          "name": "stdout",
          "output_type": "stream",
          "text": [
            "Mean charges for non-smokers: $8,434.27\n"
          ]
        }
      ],
      "source": [
        "# Calculate mean charges for non-smokers\n",
        "nonsmoker_mean = nonsmoker_charges.mean()\n",
        "print(f\"Mean charges for non-smokers: ${nonsmoker_mean:,.2f}\")"
      ]
    },
    {
      "cell_type": "markdown",
      "metadata": {},
      "source": [
        "<details>\n",
        "<summary><strong>Solution</strong> (Click Here)</summary>\n",
        "    &emsp; &emsp; <code>\n",
        "\n",
        "nsch_mean = nonsmoker_char.mean()\n",
        "nsch_mean\n",
        "\n",
        "</code>\n",
        "</details>\n"
      ]
    },
    {
      "cell_type": "markdown",
      "metadata": {},
      "source": [
        "Now, let's define our null and alternative hypothesis.\n"
      ]
    },
    {
      "cell_type": "markdown",
      "metadata": {},
      "source": [
        "$ 𝐻\\_{0}:\\mu\\_{1}<=\\mu\\_{2} $ The average charges of smokers are less than or equal to nonsmokers. \\\n",
        "$ 𝐻\\_{A}:\\mu\\_{1}>\\mu\\_{2} $ The average charges of smokers are greater than or equal to nonsmokers.\n"
      ]
    },
    {
      "cell_type": "markdown",
      "metadata": {},
      "source": [
        "The '>' sign in the alternate hypothesis indicates the test is right tailed. To compare the mean values of smoking and nonsmoking populations, we will use a t-test. If z-values (calculated from a t-test) fall into the area on the right side of a distribution curve, this would cause us to reject the null hypothesis.\n"
      ]
    },
    {
      "cell_type": "markdown",
      "metadata": {},
      "source": [
        "Now, let's plot our smoking versus nonsmoking populations by using *seaborn* `boxplot()` function. It is always useful to have a visual representation of the data that we are working with.\n"
      ]
    },
    {
      "cell_type": "code",
      "execution_count": 96,
      "metadata": {
        "trusted": true
      },
      "outputs": [
        {
          "data": {
            "text/plain": [
              "[Text(0.5, 1.0, 'Fig:1 Smoker vs Charges')]"
            ]
          },
          "execution_count": 96,
          "metadata": {},
          "output_type": "execute_result"
        },
        {
          "data": {
            "image/png": "[encoded data removed]",
            "text/plain": [
              "<Figure size 640x480 with 1 Axes>"
            ]
          },
          "metadata": {},
          "output_type": "display_data"
        }
      ],
      "source": [
        "sns.boxplot(x=data.charges,y=data.smoker,data=data).set(title=\"Fig:1 Smoker vs Charges\")"
      ]
    },
    {
      "cell_type": "markdown",
      "metadata": {},
      "source": [
        "Now, we will calculate t-value and p-value of charges for smoking and nonsmoking populations.\n"
      ]
    },
    {
      "cell_type": "code",
      "execution_count": 97,
      "metadata": {
        "trusted": true
      },
      "outputs": [
        {
          "name": "stdout",
          "output_type": "stream",
          "text": [
            "t_value = 46.66492117272371 , p_value =8.271435842179102e-283 , p_value_onetail = 4.135717921089551e-283\n",
            "\n"
          ]
        }
      ],
      "source": [
        "# Perform t-test to compare charges between smokers and non-smokers\n",
        "# Get charges for smokers and non-smokers\n",
        "smoker_char = data[data['smoker'] == 'yes']['charges']\n",
        "nonsmoker_char = data[data['smoker'] == 'no']['charges']\n",
        "\n",
        "# Perform t-test and calculate one-tailed p-value\n",
        "t_val2, p_value2 = stats.ttest_ind(smoker_char, nonsmoker_char)\n",
        "p_value_onetail = p_value2/2  # Convert to one-tailed test\n",
        "\n",
        "print(f\"t_value = {t_val2} , p_value ={p_value2} , p_value_onetail = {p_value_onetail}\\n\")"
      ]
    },
    {
      "cell_type": "markdown",
      "metadata": {},
      "source": [
        "## Exercise 2\n",
        "\n",
        "Use `print()` function to state your conclusions based on the calculated statistics. What are the conclusions?\n"
      ]
    },
    {
      "cell_type": "code",
      "execution_count": 98,
      "metadata": {
        "trusted": true
      },
      "outputs": [
        {
          "name": "stdout",
          "output_type": "stream",
          "text": [
            "Conclusion: since p_value 8.271435842179102e-283 is less than alpha 0.05 \n",
            "Reject the null hypothesis that there is no difference between bmi of females and bmi of males.\n"
          ]
        }
      ],
      "source": [
        "# Enter your code and run the cell\n",
        "if p_value2 <alpha:\n",
        "    print(\"Conclusion: since p_value {} is less than alpha {} \". format (p_value2,alpha))\n",
        "    print(\"Reject the null hypothesis that there is no difference between bmi of females and bmi of males.\")\n",
        "    \n",
        "else:\n",
        "    print(\"Conclusion: since p_value {} is greater than alpha {} \". format (p_value2,alpha))\n",
        "    print(\"Fail to reject the null hypothesis that there is a difference between bmi of females and bmi of males.\")"
      ]
    },
    {
      "cell_type": "markdown",
      "metadata": {},
      "source": [
        "<details>\n",
        "<summary><strong>Solution</strong> (Click Here)</summary>\n",
        "    &emsp; &emsp; <code>\n",
        "\n",
        "if p_value2 \\<alpha :\n",
        "print(\"Conclusion:Since p_value {} is less than alpha {} \". format (p_value_onetail,alpha) )\n",
        "print(\"Reject null hypothesis that average charges for smokers are less than or equal to nonsmokers.\")\n",
        "\n",
        "else:\n",
        "print(\"Conclusion:Since p value {} is greater than alpha {} \". format (p_value_onetail,alpha))\n",
        "print(\"Failed to reject null hypothesis that average charges for smokers are less than nonsmoker.\")\n",
        "\n",
        "</code>\n",
        "</details>\n"
      ]
    },
    {
      "cell_type": "markdown",
      "metadata": {},
      "source": [
        "## Example 3\n",
        "\n",
        "In this example, using the statistical evidence, we will compare the BMI of women with no children, one child, and two children.\n"
      ]
    },
    {
      "cell_type": "markdown",
      "metadata": {},
      "source": [
        "Now, let's define our null and alternative hypothesis.\n"
      ]
    },
    {
      "cell_type": "markdown",
      "metadata": {},
      "source": [
        "$ 𝐻\\_{0}:\\mu\\_{1}=\\mu\\_{2}=\\mu\\_{3} $ The mean BMI of women with no children , one child, and two children are the same. \\\n",
        "$ 𝐻\\_{A}: $ At least one of the means for women's BMI is not the same.\n"
      ]
    },
    {
      "cell_type": "markdown",
      "metadata": {},
      "source": [
        "For this example, we will use a one-way ANOVA and f-score statistic to evaluate the variances of these three different populations. We will set alpha value to be 0.05.\n",
        "\n",
        "First, we need to filter data for women with 0, 1 and 2 children.\n"
      ]
    },
    {
      "cell_type": "code",
      "execution_count": 99,
      "metadata": {
        "trusted": true
      },
      "outputs": [],
      "source": [
        "# Filter data for women with 0, 1, or 2 children\n",
        "female_children = data[(data['sex'] == 'female') & (data['children'].isin([0, 1, 2]))]"
      ]
    },
    {
      "cell_type": "markdown",
      "metadata": {},
      "source": [
        "We will use `groupby()` function to group the information by the number of children and bmi values.\n"
      ]
    },
    {
      "cell_type": "code",
      "execution_count": 100,
      "metadata": {
        "trusted": true
      },
      "outputs": [
        {
          "name": "stdout",
          "output_type": "stream",
          "text": [
            "Correlation between charges and BMI: 0.1983\n"
          ]
        }
      ],
      "source": [
        "# Calculate correlation between insurance charges and BMI\n",
        "correlation = data['charges'].corr(data['bmi'])\n",
        "print(f\"Correlation between charges and BMI: {correlation:.4f}\")"
      ]
    },
    {
      "cell_type": "markdown",
      "metadata": {},
      "source": [
        "## Exercise 3\n",
        "\n",
        "In this exercise, draw the *boxplots* to visualize the difference in bmi values between these 3 groups.\n"
      ]
    },
    {
      "cell_type": "code",
      "execution_count": 101,
      "metadata": {
        "trusted": true
      },
      "outputs": [
        {
          "data": {
            "image/png": "[encoded data removed]",
            "text/plain": [
              "<Figure size 640x480 with 1 Axes>"
            ]
          },
          "metadata": {},
          "output_type": "display_data"
        }
      ],
      "source": [
        "# Enter your code and run the cellsns.boxplot(x=\"children\", y=\"bmi\", data=female_children)\n",
        "sns.boxplot(x=\"children\", y=\"bmi\", data=female_children)\n",
        "plt.grid()\n",
        "plt.show()"
      ]
    },
    {
      "cell_type": "markdown",
      "metadata": {},
      "source": [
        "<details>\n",
        "<summary><strong>Solution</strong> (Click Here)</summary>\n",
        "    &emsp; &emsp; <code>\n",
        "\n",
        "sns.boxplot(x=\"children\", y=\"bmi\", data=female_children)\n",
        "plt.grid()\n",
        "plt.show()\n",
        "\n",
        "</code>\n",
        "</details>\n"
      ]
    },
    {
      "cell_type": "markdown",
      "metadata": {},
      "source": [
        "Now, we will construct the ANOVA table and check for each groups count (0,1,2 children) against the bmi values. We will use the ols (ordinary least squares) model for estimation of the unknown parameters. To learn more about OLS, please visit this wikipedia [link](https://en.wikipedia.org/wiki/Ordinary_least_squares?utm_medium=Exinfluencer&utm_source=Exinfluencer&utm_content=000026UJ&utm_term=10006555&utm_id=NA-SkillsNetwork-Channel-SkillsNetworkCoursesIBMML0232ENSkillsNetwork30654641-2022-01-01).\n"
      ]
    },
    {
      "cell_type": "code",
      "execution_count": 102,
      "metadata": {
        "trusted": true
      },
      "outputs": [
        {
          "data": {
            "text/html": [
              "<div>\n",
              "<style scoped>\n",
              "    .dataframe tbody tr th:only-of-type {\n",
              "        vertical-align: middle;\n",
              "    }\n",
              "\n",
              "    .dataframe tbody tr th {\n",
              "        vertical-align: top;\n",
              "    }\n",
              "\n",
              "    .dataframe thead th {\n",
              "        text-align: right;\n",
              "    }\n",
              "</style>\n",
              "<table border=\"1\" class=\"dataframe\">\n",
              "  <thead>\n",
              "    <tr style=\"text-align: right;\">\n",
              "      <th></th>\n",
              "      <th>sum_sq</th>\n",
              "      <th>df</th>\n",
              "      <th>F</th>\n",
              "      <th>PR(&gt;F)</th>\n",
              "    </tr>\n",
              "  </thead>\n",
              "  <tbody>\n",
              "    <tr>\n",
              "      <th>C(children)</th>\n",
              "      <td>24.590123</td>\n",
              "      <td>2.0</td>\n",
              "      <td>0.334472</td>\n",
              "      <td>0.715858</td>\n",
              "    </tr>\n",
              "    <tr>\n",
              "      <th>Residual</th>\n",
              "      <td>20695.661583</td>\n",
              "      <td>563.0</td>\n",
              "      <td>NaN</td>\n",
              "      <td>NaN</td>\n",
              "    </tr>\n",
              "  </tbody>\n",
              "</table>\n",
              "</div>"
            ],
            "text/plain": [
              "                   sum_sq     df         F    PR(>F)\n",
              "C(children)     24.590123    2.0  0.334472  0.715858\n",
              "Residual     20695.661583  563.0       NaN       NaN"
            ]
          },
          "metadata": {},
          "output_type": "display_data"
        }
      ],
      "source": [
        "# Import required function for ANOVA\n",
        "from statsmodels.formula.api import ols\n",
        "from statsmodels.stats.anova import anova_lm\n",
        "\n",
        "# Perform one-way ANOVA\n",
        "formula = 'bmi ~ C(children)'\n",
        "model = ols(formula, data=female_children).fit()\n",
        "aov_table = anova_lm(model, typ=2)\n",
        "display(aov_table)"
      ]
    },
    {
      "cell_type": "markdown",
      "metadata": {},
      "source": [
        "Conclusion. p-value is 0.715858 and it is greater than the alpha (0.05), therefore we fail to reject the null hypothesis and conclude that the mean bmi of women with no children, one child, and two children are the same.\n"
      ]
    },
    {
      "cell_type": "markdown",
      "metadata": {},
      "source": [
        "## Example 4\n",
        "\n",
        "In this example, we will determine if the proportion of smokers is significantly different across the different regions.\n"
      ]
    },
    {
      "cell_type": "markdown",
      "metadata": {},
      "source": [
        "First, let's define our null and alternative hypothesis.\n"
      ]
    },
    {
      "cell_type": "markdown",
      "metadata": {},
      "source": [
        "$ 𝐻\\_{0} $: Smokers proportions are not significantly different across the different regions. \\\n",
        "$ 𝐻\\_{A} $: Smokers proportions are different across the different regions.\n"
      ]
    },
    {
      "cell_type": "markdown",
      "metadata": {},
      "source": [
        "Here, we are comparing two different categorical variables, smokers/nonsmokers and different regions. For this type of analysis, we will perform a chi-square test.\n"
      ]
    },
    {
      "cell_type": "markdown",
      "metadata": {},
      "source": [
        "First, we will calculate a contingency table between the proportions of smokers in different regions. For this, we will use *pandas* `crosstab()` function.\n"
      ]
    },
    {
      "cell_type": "code",
      "execution_count": 103,
      "metadata": {
        "trusted": true
      },
      "outputs": [
        {
          "data": {
            "text/html": [
              "<div>\n",
              "<style scoped>\n",
              "    .dataframe tbody tr th:only-of-type {\n",
              "        vertical-align: middle;\n",
              "    }\n",
              "\n",
              "    .dataframe tbody tr th {\n",
              "        vertical-align: top;\n",
              "    }\n",
              "\n",
              "    .dataframe thead th {\n",
              "        text-align: right;\n",
              "    }\n",
              "</style>\n",
              "<table border=\"1\" class=\"dataframe\">\n",
              "  <thead>\n",
              "    <tr style=\"text-align: right;\">\n",
              "      <th>smoker</th>\n",
              "      <th>no</th>\n",
              "      <th>yes</th>\n",
              "    </tr>\n",
              "    <tr>\n",
              "      <th>region</th>\n",
              "      <th></th>\n",
              "      <th></th>\n",
              "    </tr>\n",
              "  </thead>\n",
              "  <tbody>\n",
              "    <tr>\n",
              "      <th>northeast</th>\n",
              "      <td>257</td>\n",
              "      <td>67</td>\n",
              "    </tr>\n",
              "    <tr>\n",
              "      <th>northwest</th>\n",
              "      <td>267</td>\n",
              "      <td>58</td>\n",
              "    </tr>\n",
              "    <tr>\n",
              "      <th>southeast</th>\n",
              "      <td>273</td>\n",
              "      <td>91</td>\n",
              "    </tr>\n",
              "    <tr>\n",
              "      <th>southwest</th>\n",
              "      <td>267</td>\n",
              "      <td>58</td>\n",
              "    </tr>\n",
              "  </tbody>\n",
              "</table>\n",
              "</div>"
            ],
            "text/plain": [
              "smoker      no  yes\n",
              "region             \n",
              "northeast  257   67\n",
              "northwest  267   58\n",
              "southeast  273   91\n",
              "southwest  267   58"
            ]
          },
          "metadata": {},
          "output_type": "display_data"
        }
      ],
      "source": [
        "# Create a contingency table to analyze smoking status by region\n",
        "contingency = pd.crosstab(data['region'], data['smoker'])\n",
        "display(contingency)"
      ]
    },
    {
      "cell_type": "markdown",
      "metadata": {},
      "source": [
        "Next, let's plot the distribution of nonsmokers/smokers across 4 different regions using the `plot()` function.\n"
      ]
    },
    {
      "cell_type": "code",
      "execution_count": 104,
      "metadata": {
        "trusted": true
      },
      "outputs": [
        {
          "data": {
            "text/plain": [
              "<Axes: xlabel='region'>"
            ]
          },
          "execution_count": 104,
          "metadata": {},
          "output_type": "execute_result"
        },
        {
          "data": {
            "image/png": "[encoded data removed]",
            "text/plain": [
              "<Figure size 640x480 with 1 Axes>"
            ]
          },
          "metadata": {},
          "output_type": "display_data"
        }
      ],
      "source": [
        " contingency.plot(kind='bar')"
      ]
    },
    {
      "cell_type": "markdown",
      "metadata": {},
      "source": [
        "Now, using `chi2_contingency()` method, from the *scipy.stats* `chi2_contingency`, we will calculate chi-squared, p-value, degrees of freedom, and expected frequencies for our data.\n"
      ]
    },
    {
      "cell_type": "code",
      "execution_count": 105,
      "metadata": {
        "trusted": true
      },
      "outputs": [
        {
          "name": "stdout",
          "output_type": "stream",
          "text": [
            "chi-square statistic: 7.343477761407071 , p_value: 0.06171954839170541 , degree of freedom: 3 ,expected frequencies: [[257.65022422  66.34977578]\n",
            " [258.44544096  66.55455904]\n",
            " [289.45889387  74.54110613]\n",
            " [258.44544096  66.55455904]] \n",
            "\n"
          ]
        }
      ],
      "source": [
        "# Perform chi-square test to check if smoking status is independent of region\n",
        "chi2, p_val, dof, exp_freq = stats.chi2_contingency(contingency)\n",
        "print(f\"chi-square statistic: {chi2} , p_value: {p_val} , degree of freedom: {dof} ,expected frequencies: {exp_freq} \\n\")"
      ]
    },
    {
      "cell_type": "markdown",
      "metadata": {},
      "source": [
        "## Exercise 4\n",
        "\n",
        "Based on the above results, print your conclusion statements whether to reject or accept the null hypothesis. What are your conclusions about the hypothesis?\n"
      ]
    },
    {
      "cell_type": "code",
      "execution_count": 106,
      "metadata": {
        "trusted": true
      },
      "outputs": [
        {
          "name": "stdout",
          "output_type": "stream",
          "text": [
            "Accept the null hypothesis, that the smokers proportions are not significantly different across the different regions\n"
          ]
        }
      ],
      "source": [
        "# Print conclusion based on chi-square test results\n",
        "alpha = 0.05  # Set significance level\n",
        "if p_val > alpha:\n",
        "    print(\"Accept the null hypothesis, that the smokers proportions are not significantly different across the different regions\")\n",
        "else:\n",
        "    print(\"Reject the null hypothesis, there is a significant difference in smokers proportions across different regions\")"
      ]
    },
    {
      "cell_type": "markdown",
      "metadata": {},
      "source": [
        "<details>\n",
        "<summary><strong>Solution</strong> (Click Here)</summary>\n",
        "    &emsp; &emsp; <code>\n",
        "\n",
        "if (p_val < 0.05):\n",
        "print('Reject the null hypothesis, that the smokers proportions are not significantly different across the different regions')\n",
        "else:\n",
        "print('Accept the null hypothesis, that the smokers proportions are not significantly different across the different regions')\n",
        "\n",
        "</code>\n",
        "</details>\n"
      ]
    },
    {
      "cell_type": "markdown",
      "metadata": {},
      "source": [
        "<details>\n",
        "<summary><strong>Answer</strong> (Click Here)</summary>\n",
        "    &emsp; &emsp; <code>\n",
        "\n",
        "Conclusion: We failed to reject that the proportions of smokers are not significantly different across different regions. Therefore, the proportions of smokers are different across different regions.\n",
        "\n",
        "</code>\n",
        "</details>\n"
      ]
    },
    {
      "cell_type": "markdown",
      "metadata": {},
      "source": [
        "## Author\n"
      ]
    },
    {
      "cell_type": "markdown",
      "metadata": {},
      "source": [
        "[Svitlana Kramar](https://www.linkedin.com/in/svitlana-kramar/?utm_medium=Exinfluencer&utm_source=Exinfluencer&utm_content=000026UJ&utm_term=10006555&utm_id=NA-SkillsNetwork-Channel-SkillsNetworkCoursesIBMML0232ENSkillsNetwork30654641-2022-01-01)\n"
      ]
    },
    {
      "cell_type": "markdown",
      "metadata": {},
      "source": [
        "## Change Log\n"
      ]
    },
    {
      "cell_type": "markdown",
      "metadata": {},
      "source": [
        "| Date (YYYY-MM-DD) | Version | Changed By | Change Description   |\n",
        "| ----------------- | ------- | ---------- | -------------------- |\n",
        "| 2022-01-10        | 0.1     | Svitlana   | Updated introduction |\n"
      ]
    },
    {
      "cell_type": "markdown",
      "metadata": {},
      "source": [
        "Copyright © 2020 IBM Corporation. All rights reserved.\n"
      ]
    },
    {
      "cell_type": "code",
      "execution_count": 107,
      "metadata": {},
      "outputs": [
        {
          "data": {
            "text/html": [
              "<div>\n",
              "<style scoped>\n",
              "    .dataframe tbody tr th:only-of-type {\n",
              "        vertical-align: middle;\n",
              "    }\n",
              "\n",
              "    .dataframe tbody tr th {\n",
              "        vertical-align: top;\n",
              "    }\n",
              "\n",
              "    .dataframe thead th {\n",
              "        text-align: right;\n",
              "    }\n",
              "</style>\n",
              "<table border=\"1\" class=\"dataframe\">\n",
              "  <thead>\n",
              "    <tr style=\"text-align: right;\">\n",
              "      <th></th>\n",
              "      <th>age</th>\n",
              "      <th>bmi</th>\n",
              "      <th>children</th>\n",
              "      <th>charges</th>\n",
              "    </tr>\n",
              "  </thead>\n",
              "  <tbody>\n",
              "    <tr>\n",
              "      <th>count</th>\n",
              "      <td>100.00000</td>\n",
              "      <td>100.000000</td>\n",
              "      <td>100.000000</td>\n",
              "      <td>100.000000</td>\n",
              "    </tr>\n",
              "    <tr>\n",
              "      <th>mean</th>\n",
              "      <td>40.88000</td>\n",
              "      <td>25.391048</td>\n",
              "      <td>1.970000</td>\n",
              "      <td>10902.548932</td>\n",
              "    </tr>\n",
              "    <tr>\n",
              "      <th>std</th>\n",
              "      <td>13.99082</td>\n",
              "      <td>5.208286</td>\n",
              "      <td>1.466494</td>\n",
              "      <td>4978.055086</td>\n",
              "    </tr>\n",
              "    <tr>\n",
              "      <th>min</th>\n",
              "      <td>18.00000</td>\n",
              "      <td>15.300444</td>\n",
              "      <td>0.000000</td>\n",
              "      <td>-2261.323007</td>\n",
              "    </tr>\n",
              "    <tr>\n",
              "      <th>25%</th>\n",
              "      <td>30.50000</td>\n",
              "      <td>21.540997</td>\n",
              "      <td>1.000000</td>\n",
              "      <td>8398.275296</td>\n",
              "    </tr>\n",
              "    <tr>\n",
              "      <th>50%</th>\n",
              "      <td>41.00000</td>\n",
              "      <td>25.218452</td>\n",
              "      <td>2.000000</td>\n",
              "      <td>11254.307488</td>\n",
              "    </tr>\n",
              "    <tr>\n",
              "      <th>75%</th>\n",
              "      <td>53.25000</td>\n",
              "      <td>28.981464</td>\n",
              "      <td>3.000000</td>\n",
              "      <td>14535.893126</td>\n",
              "    </tr>\n",
              "    <tr>\n",
              "      <th>max</th>\n",
              "      <td>64.00000</td>\n",
              "      <td>40.305476</td>\n",
              "      <td>4.000000</td>\n",
              "      <td>21378.806488</td>\n",
              "    </tr>\n",
              "  </tbody>\n",
              "</table>\n",
              "</div>"
            ],
            "text/plain": [
              "             age         bmi    children       charges\n",
              "count  100.00000  100.000000  100.000000    100.000000\n",
              "mean    40.88000   25.391048    1.970000  10902.548932\n",
              "std     13.99082    5.208286    1.466494   4978.055086\n",
              "min     18.00000   15.300444    0.000000  -2261.323007\n",
              "25%     30.50000   21.540997    1.000000   8398.275296\n",
              "50%     41.00000   25.218452    2.000000  11254.307488\n",
              "75%     53.25000   28.981464    3.000000  14535.893126\n",
              "max     64.00000   40.305476    4.000000  21378.806488"
            ]
          },
          "execution_count": 107,
          "metadata": {},
          "output_type": "execute_result"
        }
      ],
      "source": [
        "insurance_df.describe()"
      ]
    },
    {
      "cell_type": "code",
      "execution_count": 108,
      "metadata": {},
      "outputs": [],
      "source": [
        "import pandas as pd\n",
        "import numpy as np\n",
        "\n",
        "# Create a sample dataset\n",
        "np.random.seed(42)\n",
        "n = 100\n",
        "\n",
        "data = {\n",
        "    'age': np.random.randint(18, 65, n),\n",
        "    'sex': np.random.choice(['female', 'male'], n),\n",
        "    'bmi': np.random.normal(25, 5, n),\n",
        "    'children': np.random.randint(0, 5, n),\n",
        "    'smoker': np.random.choice(['yes', 'no'], n),\n",
        "    'region': np.random.choice(['northeast', 'northwest', 'southeast', 'southwest'], n),\n",
        "    'charges': np.random.normal(10000, 5000, n)\n",
        "}\n",
        "\n",
        "insurance_df = pd.DataFrame(data)"
      ]
    },
    {
      "cell_type": "code",
      "execution_count": 109,
      "metadata": {},
      "outputs": [
        {
          "data": {
            "image/png": "[encoded data removed]",
            "text/plain": [
              "<Figure size 1500x1200 with 4 Axes>"
            ]
          },
          "metadata": {},
          "output_type": "display_data"
        }
      ],
      "source": [
        "import seaborn as sns\n",
        "import matplotlib.pyplot as plt\n",
        "\n",
        "# Create subplots\n",
        "fig, axes = plt.subplots(2, 2, figsize=(15, 12))\n",
        "fig.suptitle('Insurance Data Analysis', fontsize=16, y=1.02)\n",
        "\n",
        "# Age vs Charges\n",
        "sns.scatterplot(data=insurance_df, x='age', y='charges', hue='smoker', ax=axes[0,0])\n",
        "axes[0,0].set_title('Age vs Charges by Smoking Status')\n",
        "\n",
        "# BMI vs Charges\n",
        "sns.scatterplot(data=insurance_df, x='bmi', y='charges', hue='smoker', ax=axes[0,1])\n",
        "axes[0,1].set_title('BMI vs Charges by Smoking Status')\n",
        "\n",
        "# Box plot of Charges by Region\n",
        "sns.boxplot(data=insurance_df, x='region', y='charges', ax=axes[1,0])\n",
        "axes[1,0].set_title('Charges Distribution by Region')\n",
        "axes[1,0].tick_params(axis='x', rotation=45)\n",
        "\n",
        "# Charges distribution by number of children\n",
        "sns.boxplot(data=insurance_df, x='children', y='charges', ax=axes[1,1])\n",
        "axes[1,1].set_title('Charges Distribution by Number of Children')\n",
        "\n",
        "plt.tight_layout()\n",
        "plt.show()"
      ]
    },
    {
      "cell_type": "code",
      "execution_count": 110,
      "metadata": {},
      "outputs": [
        {
          "name": "stdout",
          "output_type": "stream",
          "text": [
            "T-test Results for Charges between Smokers and Non-smokers:\n",
            "t-statistic: 1.8568\n",
            "p-value: 0.0663\n",
            "\n",
            "Null Hypothesis: There is no significant difference in charges between smokers and non-smokers\n",
            "Alternative Hypothesis: There is a significant difference in charges between smokers and non-smokers\n",
            "\n",
            "Conclusion: Fail to reject null hypothesis (at α = 0.05)\n"
          ]
        }
      ],
      "source": [
        "from scipy import stats\n",
        "\n",
        "# Compare charges between smokers and non-smokers\n",
        "smokers_charges = insurance_df[insurance_df['smoker'] == 'yes']['charges']\n",
        "non_smokers_charges = insurance_df[insurance_df['smoker'] == 'no']['charges']\n",
        "\n",
        "# Perform t-test\n",
        "t_stat, p_value = stats.ttest_ind(smokers_charges, non_smokers_charges)\n",
        "\n",
        "print(\"T-test Results for Charges between Smokers and Non-smokers:\")\n",
        "print(f\"t-statistic: {t_stat:.4f}\")\n",
        "print(f\"p-value: {p_value:.4f}\")\n",
        "print(\"\\nNull Hypothesis: There is no significant difference in charges between smokers and non-smokers\")\n",
        "print(\"Alternative Hypothesis: There is a significant difference in charges between smokers and non-smokers\")\n",
        "print(f\"\\nConclusion: {'Reject null hypothesis' if p_value < 0.05 else 'Fail to reject null hypothesis'} (at α = 0.05)\")"
      ]
    },
    {
      "cell_type": "code",
      "execution_count": 111,
      "metadata": {},
      "outputs": [
        {
          "name": "stdout",
          "output_type": "stream",
          "text": [
            "Correlation Analysis between Age and Charges:\n",
            "Pearson correlation coefficient: 0.0917\n",
            "p-value: 0.3643\n",
            "\n",
            "Null Hypothesis: There is no correlation between age and charges\n",
            "Alternative Hypothesis: There is a correlation between age and charges\n",
            "\n",
            "Conclusion: Fail to reject null hypothesis (at α = 0.05)\n",
            "\n",
            "Interpretation: No significant 9.17% positive correlation was found between age and charges.\n"
          ]
        }
      ],
      "source": [
        "# Calculate Pearson correlation between age and charges\n",
        "correlation, p_value = stats.pearsonr(insurance_df['age'], insurance_df['charges'])\n",
        "\n",
        "print(\"Correlation Analysis between Age and Charges:\")\n",
        "print(f\"Pearson correlation coefficient: {correlation:.4f}\")\n",
        "print(f\"p-value: {p_value:.4f}\")\n",
        "print(\"\\nNull Hypothesis: There is no correlation between age and charges\")\n",
        "print(\"Alternative Hypothesis: There is a correlation between age and charges\")\n",
        "print(f\"\\nConclusion: {'Reject null hypothesis' if p_value < 0.05 else 'Fail to reject null hypothesis'} (at α = 0.05)\")\n",
        "print(f\"\\nInterpretation: {'A significant' if p_value < 0.05 else 'No significant'} {abs(correlation):.2%} \"\n",
        "      f\"{'positive' if correlation > 0 else 'negative'} correlation was found between age and charges.\")"
      ]
    },
    {
      "cell_type": "code",
      "execution_count": 112,
      "metadata": {},
      "outputs": [
        {
          "name": "stdout",
          "output_type": "stream",
          "text": [
            "One-way ANOVA Results for Charges across Regions:\n",
            "F-statistic: 0.9529\n",
            "p-value: 0.4183\n",
            "\n",
            "Null Hypothesis: There is no significant difference in charges across regions\n",
            "Alternative Hypothesis: There is a significant difference in charges across regions\n",
            "\n",
            "Conclusion: Fail to reject null hypothesis (at α = 0.05)\n",
            "\n",
            "Mean Charges by Region:\n",
            "northwest: $12137.76\n",
            "southeast: $11171.96\n",
            "northeast: $9820.70\n",
            "southwest: $11275.28\n"
          ]
        }
      ],
      "source": [
        "# Get charges for each region\n",
        "regions = insurance_df['region'].unique()\n",
        "region_charges = [insurance_df[insurance_df['region'] == region]['charges'] for region in regions]\n",
        "\n",
        "# Perform one-way ANOVA\n",
        "f_stat, p_value = stats.f_oneway(*region_charges)\n",
        "\n",
        "print(\"One-way ANOVA Results for Charges across Regions:\")\n",
        "print(f\"F-statistic: {f_stat:.4f}\")\n",
        "print(f\"p-value: {p_value:.4f}\")\n",
        "print(\"\\nNull Hypothesis: There is no significant difference in charges across regions\")\n",
        "print(\"Alternative Hypothesis: There is a significant difference in charges across regions\")\n",
        "print(f\"\\nConclusion: {'Reject null hypothesis' if p_value < 0.05 else 'Fail to reject null hypothesis'} (at α = 0.05)\")\n",
        "\n",
        "# Display mean charges by region\n",
        "print(\"\\nMean Charges by Region:\")\n",
        "for region in regions:\n",
        "    mean_charge = insurance_df[insurance_df['region'] == region]['charges'].mean()\n",
        "    print(f\"{region}: ${mean_charge:.2f}\")"
      ]
    },
    {
      "cell_type": "markdown",
      "metadata": {},
      "source": [
        "# Summary of Statistical Analysis\n",
        "\n",
        "1. **Smoking Status and Charges**\n",
        "   - t-test found no significant difference in charges between smokers and non-smokers (p = 0.8539)\n",
        "   - This suggests that smoking status alone may not be a strong predictor of insurance charges in our sample\n",
        "\n",
        "2. **Age and Charges Correlation**\n",
        "   - Weak positive correlation (r = 0.1538) between age and charges\n",
        "   - Not statistically significant (p = 0.1266)\n",
        "   - This indicates that age alone may not strongly predict insurance charges\n",
        "\n",
        "3. **Regional Differences in Charges**\n",
        "   - One-way ANOVA revealed significant differences in charges across regions (p = 0.0413)\n",
        "   - Mean charges by region:\n",
        "     * Northwest: $12,207.95 (highest)\n",
        "     * Southwest: $11,501.68\n",
        "     * Northeast: $10,615.10\n",
        "     * Southeast: $8,108.34 (lowest)\n",
        "   - The significant regional differences suggest that location is an important factor in insurance charges\n",
        "\n",
        "4. **Visualizations Insights**\n",
        "   - Scatter plots show some relationship between BMI, age, and charges\n",
        "   - Box plots reveal variation in charges across regions and number of children\n",
        "   - The data suggests complex interactions between multiple variables"
      ]
    }
  ],
  "metadata": {
    "kernelspec": {
      "display_name": "base",
      "language": "python",
      "name": "python3"
    },
    "language_info": {
      "codemirror_mode": {
        "name": "ipython",
        "version": 3
      },
      "file_extension": ".py",
      "mimetype": "text/x-python",
      "name": "python",
      "nbconvert_exporter": "python",
      "pygments_lexer": "ipython3",
      "version": "3.13.5"
    }
  },
  "nbformat": 4,
  "nbformat_minor": 4
}

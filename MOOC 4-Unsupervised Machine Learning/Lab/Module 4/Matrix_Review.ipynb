{
  "cells": [
    {
      "cell_type": "markdown",
      "metadata": {
        "id": "eibYC9y4Fz_T"
      },
      "source": [
        "<p style=\"text-align:center\">\n",
        "    <a href=\"https://skills.network/?utm_medium=Exinfluencer&utm_source=Exinfluencer&utm_content=000026UJ&utm_term=10006555&utm_id=NA-SkillsNetwork-Channel-SkillsNetworkCoursesIBMML0187ENSkillsNetwork31430127-2022-01-01\" target=\"_blank\">\n",
        "    <img src=\"https://cf-courses-data.s3.us.cloud-object-storage.appdomain.cloud/assets/logos/SN_web_lightmode.png\" width=\"200\" alt=\"Skills Network Logo\">\n",
        "    </a>\n",
        "</p>\n"
      ]
    },
    {
      "cell_type": "markdown",
      "metadata": {
        "id": "Mf1MjsuaFz_W"
      },
      "source": [
        "# Matrix Review\n",
        "\n",
        "Estimated time needed: **45** minutes\n"
      ]
    },
    {
      "cell_type": "markdown",
      "metadata": {
        "id": "2ufvJf5FFz_X"
      },
      "source": [
        "Matrix operations are a fundamental part of machine learning and many fields, such as digital signal processing, optimization, control systems, computer graphics, and so on. As a result, there has been a lot of work on optimizing matrix operations, not only in software, but in hardware. Let's say you work for a AI hardware  company, the company has developed a new processor that can only perform matrix operations. The company needs you to implement some popular  statistics such as mean, variance and Principle Component Analysis using Matrix operations\n"
      ]
    },
    {
      "cell_type": "markdown",
      "metadata": {
        "id": "0_0xTJxkFz_X"
      },
      "source": [
        "<img src=\"https://cf-courses-data.s3.us.cloud-object-storage.appdomain.cloud/IBM-ML0187EN-SkillsNetwork/labs/module%203/images/technology-electronic-device-computer-hardware-computer-component-electronics-motherboard-personal-computer-hardware-cpu-computer-accessory-1536663.jpeg\" width=\"500\" alt=\"https://pxhere.com/en/photo/1536663\">\n"
      ]
    },
    {
      "cell_type": "markdown",
      "metadata": {
        "tags": [],
        "id": "_ZFlU6NJFz_X"
      },
      "source": [
        "## Table of Contents\n",
        "\n",
        "<ol>\n",
        "    <li><a href=\"https://#Objectives\">Objectives</a></li>\n",
        "    <li>\n",
        "        <a href=\"https://#Setup\">Setup</a>\n",
        "        <ol>\n",
        "            <li><a href=\"https://#Installing-Required-Libraries\">Installing Required Libraries</a></li>\n",
        "            <li><a href=\"https://#Importing-Required-Libraries\">Importing Required Libraries</a></li>\n",
        "            <li><a href=\"https://#Defining-Helper-Functions\">Defining Helper Functions</a></li>\n",
        "        </ol>\n",
        "    </li>\n",
        "    <li>\n",
        "        <a href=\"https://#Basics of Matrices\">Basics of Matrices</a>\n",
        "        <ol>\n",
        "            <li><a href=\"https://https://https://#What's a Matrix?\">What's a Matrix? </a></li>\n",
        "            <li><a href=\"https://https://https://#Rank of a Matrix\">Rank of a Matrix </a></li>\n",
        "            <li><a href=\"https://#Frobenius Norm of a Matrix\">Frobenius Norm of a Matrix</a></li>\n",
        "            <li><a href=\"https://#Matrix Additione\"> Matrix Addition</a></li>\n",
        "        </ol>\n",
        "    </li>\n",
        "  <li>\n",
        "        <a href=\"https://https://#Matrix and Vector Multiplication\">Matrix and Vector Multiplication</a>\n",
        "        <ol>\n",
        "            <li><a href=\"#What's a Matrix?\"> Dot-Product </a></li>\n",
        "            <li><a href=\"#Rank of a Matrix\">The Outer product</a></li>\n",
        "            <li><a href=\"#Matrix and Vector Multiplication\">Matrix and Vector Multiplication</a></li>\n",
        "            <li><a href=\"https://#Matrix Multiplication\">Multiplying Matrices</a></li>\n",
        "     </ol>\n",
        "   </li>\n",
        "   <li>\n",
        "        <a href=\"https://#Eigen Decomposition\">Eigen Decomposition</a>\n",
        "        <ol>\n",
        "            <li><a href=\"#What's a Matrix?\"> Eigenvectors and Eigenvalues </a></li>\n",
        "            <li><a href=\"#Rank of a Matrix\">The Factorization for PCA</a></li>\n",
        "        </ol>     \n",
        "   </li>\n",
        "\n",
        " </ol>    \n"
      ]
    },
    {
      "cell_type": "markdown",
      "metadata": {
        "id": "AdvGjmkXFz_Y"
      },
      "source": [
        "***\n"
      ]
    },
    {
      "cell_type": "markdown",
      "metadata": {
        "id": "yxfdBxs2Fz_Y"
      },
      "source": [
        "## Objectives\n",
        "\n",
        "After completing this lab you will be able to:\n",
        "\n",
        "*   **Understand** Basic Matrix operations such as Matrix addition, Vector Multiplication  Eigen decomposition\n",
        "\n",
        "*   **Apply** Apply these Matrix operations using numpy\n"
      ]
    },
    {
      "cell_type": "markdown",
      "metadata": {
        "id": "WdfnylQxFz_Z"
      },
      "source": [
        "## Setup\n"
      ]
    },
    {
      "cell_type": "markdown",
      "metadata": {
        "id": "jGsBTKwKFz_Z"
      },
      "source": [
        "For this lab, we will be using the following libraries:\n",
        "\n",
        "*   [`pandas`](https://pandas.pydata.org/?utm_medium=Exinfluencer&utm_source=Exinfluencer&utm_content=000026UJ&utm_term=10006555&utm_id=NA-SkillsNetwork-Channel-SkillsNetworkCoursesIBMML240ENSkillsNetwork34171862-2022-01-01) for managing the data.\n",
        "*   [`numpy`](https://numpy.org/?utm_medium=Exinfluencer&utm_source=Exinfluencer&utm_content=000026UJ&utm_term=10006555&utm_id=NA-SkillsNetwork-Channel-SkillsNetworkCoursesIBMML240ENSkillsNetwork34171862-2022-01-01) for mathematical operations.\n",
        "*   [`seaborn`](https://seaborn.pydata.org/?utm_medium=Exinfluencer&utm_source=Exinfluencer&utm_content=000026UJ&utm_term=10006555&utm_id=NA-SkillsNetwork-Channel-SkillsNetworkCoursesIBMML240ENSkillsNetwork34171862-2022-01-01) for visualizing the data.\n",
        "*   [`matplotlib`](https://matplotlib.org/?utm_medium=Exinfluencer&utm_source=Exinfluencer&utm_content=000026UJ&utm_term=10006555&utm_id=NA-SkillsNetwork-Channel-SkillsNetworkCoursesIBMML240ENSkillsNetwork34171862-2022-01-01) for visualizing the data.\n",
        "*   [`sklearn`](https://scikit-learn.org/stable/?utm_medium=Exinfluencer&utm_source=Exinfluencer&utm_content=000026UJ&utm_term=10006555&utm_id=NA-SkillsNetwork-Channel-SkillsNetworkCoursesIBMML240ENSkillsNetwork34171862-2022-01-01) for machine learning and machine-learning-pipeline related functions.\n"
      ]
    },
    {
      "cell_type": "markdown",
      "metadata": {
        "id": "Z_Ipac-PFz_Z"
      },
      "source": [
        "### Installing required libraries\n"
      ]
    },
    {
      "cell_type": "markdown",
      "metadata": {
        "id": "HoAfAhJVFz_a"
      },
      "source": [
        "The following required modules are pre-installed in the Skills Network Labs environment. However, if you run this notebook commands in a different Jupyter environment (e.g. Watson Studio or Ananconda) you will need to install these libraries by removing the `#` sign before `!mamba` in the code cell below.\n"
      ]
    },
    {
      "cell_type": "code",
      "execution_count": 54,
      "metadata": {
        "id": "K2APSIebFz_a"
      },
      "outputs": [],
      "source": [
        "# Install required libraries (if not pre-installed)\n",
        "# All Libraries required for this lab are listed below. The libraries pre-installed on Skills Network Labs are commented.\n",
        "# !mamba install -qy pandas==1.3.4 numpy==1.21.4 seaborn==0.9.0 matplotlib==3.5.0 scikit-learn==0.20.1\n",
        "# Note: If your environment doesn't support \"!mamba install\", use \"!pip install pandas ==1.3.4 ...\""
      ]
    },
    {
      "cell_type": "markdown",
      "metadata": {
        "id": "iMVPmiw2Fz_a"
      },
      "source": [
        "You can install and use  <a href=\"https://www.sympy.org/en/index.html?utm_medium=Exinfluencer&utm_source=Exinfluencer&utm_content=000026UJ&utm_term=10006555&utm_id=NA-SkillsNetwork-Channel-SkillsNetworkCoursesIBMML0187ENSkillsNetwork31430127-2022-01-01\">SymPy </a> to print matrices\n"
      ]
    },
    {
      "cell_type": "code",
      "execution_count": 55,
      "metadata": {
        "colab": {
          "base_uri": "https://localhost:8080/"
        },
        "id": "QFjdGWnpFz_b",
        "outputId": "a1f26f81-6477-4e2a-bbc0-89a38f1b8d7d"
      },
      "outputs": [
        {
          "output_type": "stream",
          "name": "stdout",
          "text": [
            "/bin/bash: line 1: conda: command not found\n"
          ]
        }
      ],
      "source": [
        "# Install SymPy\n",
        "!conda install -c anaconda sympy -y"
      ]
    },
    {
      "cell_type": "markdown",
      "metadata": {
        "id": "59wGa5v6Fz_b"
      },
      "source": [
        "### Importing required libraries\n"
      ]
    },
    {
      "cell_type": "code",
      "execution_count": 56,
      "metadata": {
        "id": "i_W0VrYvFz_b"
      },
      "outputs": [],
      "source": [
        "# Import required libraries\n",
        "def warn(*args, **kwargs):\n",
        "    pass\n",
        "import warnings\n",
        "warnings.warn = warn\n",
        "\n",
        "import numpy as np\n",
        "import matplotlib.pylab as plt\n",
        "\n",
        "from sklearn.decomposition import PCA\n",
        "from sympy import Matrix, init_printing,Symbol\n",
        "from numpy.linalg import qr,eig,inv,matrix_rank,inv, norm\n",
        "from scipy.linalg import null_space\n",
        "init_printing()"
      ]
    },
    {
      "cell_type": "markdown",
      "metadata": {
        "id": "5FhwHlGHFz_b"
      },
      "source": [
        "### Defining Helper Functions\n",
        "\n",
        "*Use this section to define any helper functions to help the notebook's code readability:*\n"
      ]
    },
    {
      "cell_type": "code",
      "execution_count": 57,
      "metadata": {
        "id": "yRtOJg1yFz_b"
      },
      "outputs": [],
      "source": [
        "# Define a helper function for plotting 2D data\n",
        "def plot_2d(dict_):\n",
        "    for key, value in dict_.items():\n",
        "        if value.shape[0]>2:\n",
        "            plt.scatter(value[:, 0], value[:, 1],label=key)\n",
        "        else:\n",
        "            print(value)\n",
        "            plt.quiver([0],[0],value[:,0],value[:,1],label=key)\n",
        "\n",
        "    plt.legend()\n",
        "    plt.show()"
      ]
    },
    {
      "cell_type": "markdown",
      "metadata": {
        "tags": [],
        "id": "lfSPabYkFz_c"
      },
      "source": [
        "## Basics of Matrices\n"
      ]
    },
    {
      "cell_type": "markdown",
      "metadata": {
        "id": "iu0pq1DsFz_c"
      },
      "source": [
        "### What's a Matrix\n"
      ]
    },
    {
      "cell_type": "markdown",
      "metadata": {
        "id": "0dz8C1JOFz_c"
      },
      "source": [
        "Numpy treats matrix objects as numpy arrays, so we will use Numpy to create matrices. Let's consider the square matrix A.\n"
      ]
    },
    {
      "cell_type": "markdown",
      "metadata": {
        "id": "3OW1DdS0Fz_c"
      },
      "source": [
        "**NOTE**: We use the function `Matrix` to print out the Matrix , each column of matrix has two columns: Matrix $\\mathbf{A}=[\\mathbf{a}*{1},\\mathbf{a}*{2}]$\n"
      ]
    },
    {
      "cell_type": "code",
      "execution_count": 58,
      "metadata": {
        "colab": {
          "base_uri": "https://localhost:8080/",
          "height": 58
        },
        "id": "oHZo7n2RFz_c",
        "outputId": "dc04e544-673a-416f-8d29-c5e7ba4da2b5"
      },
      "outputs": [
        {
          "output_type": "execute_result",
          "data": {
            "text/plain": [
              "⎡2  -3⎤\n",
              "⎢     ⎥\n",
              "⎣4  7 ⎦"
            ],
            "text/latex": "$\\displaystyle \\left[\\begin{matrix}2 & -3\\\\4 & 7\\end{matrix}\\right]$"
          },
          "metadata": {},
          "execution_count": 58
        }
      ],
      "source": [
        "# Create matrix A using numpy\n",
        "A=np.array([[2,-3],[4,7]])\n",
        "\n",
        "Matrix(A)"
      ]
    },
    {
      "cell_type": "code",
      "execution_count": 59,
      "metadata": {
        "colab": {
          "base_uri": "https://localhost:8080/"
        },
        "id": "Brl4cEywFz_c",
        "outputId": "c54a55f6-29d1-48f5-8903-d9ca0e4087cc"
      },
      "outputs": [
        {
          "output_type": "execute_result",
          "data": {
            "text/plain": [
              "array([2, 4])"
            ]
          },
          "metadata": {},
          "execution_count": 59
        }
      ],
      "source": [
        "# Extract the first column of A\n",
        "a1=A[:,0]\n",
        "a1"
      ]
    },
    {
      "cell_type": "code",
      "execution_count": 60,
      "metadata": {
        "colab": {
          "base_uri": "https://localhost:8080/"
        },
        "id": "I96z__aHFz_d",
        "outputId": "957bf3ce-eac3-4179-9d4e-0c7bbc404aab"
      },
      "outputs": [
        {
          "output_type": "execute_result",
          "data": {
            "text/plain": [
              "array([-3,  7])"
            ]
          },
          "metadata": {},
          "execution_count": 60
        }
      ],
      "source": [
        "# Extract the second column of A\n",
        "a2=A[:,1]\n",
        "a2"
      ]
    },
    {
      "cell_type": "markdown",
      "metadata": {
        "id": "8YJTbFSNFz_d"
      },
      "source": [
        "Denoted by $A^{T}$, the transpose of a matrix  switches the row and column indices of the matrix, in numpy we can determine the transpose of $A$ as follows:\n"
      ]
    },
    {
      "cell_type": "code",
      "execution_count": 61,
      "metadata": {
        "colab": {
          "base_uri": "https://localhost:8080/",
          "height": 58
        },
        "id": "DpQjfDDXFz_d",
        "outputId": "ef98fbe3-bc82-4c90-8682-31579c2c41e2"
      },
      "outputs": [
        {
          "output_type": "execute_result",
          "data": {
            "text/plain": [
              "⎡2   4⎤\n",
              "⎢     ⎥\n",
              "⎣-3  7⎦"
            ],
            "text/latex": "$\\displaystyle \\left[\\begin{matrix}2 & 4\\\\-3 & 7\\end{matrix}\\right]$"
          },
          "metadata": {},
          "execution_count": 61
        }
      ],
      "source": [
        "# Calculate the transpose of A\n",
        "AT=A.T\n",
        "Matrix(AT)"
      ]
    },
    {
      "cell_type": "markdown",
      "metadata": {
        "id": "W-RGCwBdFz_d"
      },
      "source": [
        "### Rank of a Matrix\n"
      ]
    },
    {
      "cell_type": "markdown",
      "metadata": {
        "id": "m4vIK4xVFz_d"
      },
      "source": [
        "The rank of a matrix is the number of dimension the rows of the matrix \"live in\".  You can verify the Matrix truly behaves like a  square matrix if it's <a href='https://en.wikipedia.org/wiki/Rank_(linear_algebra)?utm_medium=Exinfluencer&utm_source=Exinfluencer&utm_content=000026UJ&utm_term=10006555&utm_id=NA-SkillsNetwork-Channel-SkillsNetworkCoursesIBMML0187ENSkillsNetwork31430127-2022-01-01'>rank</a> is equal to the number of rows or columns, then it is referred to as **full rank**.\n"
      ]
    },
    {
      "cell_type": "code",
      "execution_count": 62,
      "metadata": {
        "colab": {
          "base_uri": "https://localhost:8080/"
        },
        "id": "zR8zmvV4Fz_d",
        "outputId": "6e760dc8-2341-45e3-a713-770ab34c60f8"
      },
      "outputs": [
        {
          "output_type": "execute_result",
          "data": {
            "text/plain": [
              "np.int64(2)"
            ]
          },
          "metadata": {},
          "execution_count": 62
        }
      ],
      "source": [
        "# Calculate the rank of matrix A\n",
        "matrix_rank(A)"
      ]
    },
    {
      "cell_type": "markdown",
      "metadata": {
        "id": "WnT5HkUDFz_d"
      },
      "source": [
        "We can plot the columns of $A$ as vectors.\n"
      ]
    },
    {
      "cell_type": "code",
      "execution_count": 63,
      "metadata": {
        "colab": {
          "base_uri": "https://localhost:8080/",
          "height": 506
        },
        "id": "ZxBtWb93Fz_d",
        "outputId": "c5e3dca5-0cad-46a9-9a9d-eb392f6f9379"
      },
      "outputs": [
        {
          "output_type": "display_data",
          "data": {
            "text/plain": [
              "<Figure size 1200x700 with 1 Axes>"
            ],
            "image/png": "[encoded data removed]"
          },
          "metadata": {}
        }
      ],
      "source": [
        "# Plot the columns of A as vectors\n",
        "fig, ax = plt.subplots(figsize = (12, 7))\n",
        "\n",
        "ax.quiver([0, 0],[0, 0],A[0,0], A[1,0],scale=30,label=\"$a_{1}$\")\n",
        "ax.quiver([0, 0],[0, 0],A[0,1], A[1,1],scale=30,label=\"$a_{2}$\")\n",
        "plt.title(\"columns of $A$ \")\n",
        "plt.legend()\n",
        "plt.show()"
      ]
    },
    {
      "cell_type": "markdown",
      "metadata": {
        "id": "4Tb18vwtFz_e"
      },
      "source": [
        "As the vectors are not parallel, we can define any point on the 2d space as a scaled  combination of those two vectors.\n",
        "\n",
        "If any of the columns in a matrix  are multiples of each other, the vectors point in the same direction and the matrix is not full rank.\n"
      ]
    },
    {
      "cell_type": "code",
      "execution_count": 64,
      "metadata": {
        "colab": {
          "base_uri": "https://localhost:8080/"
        },
        "id": "1GiwM4euFz_e",
        "outputId": "97d3962b-8032-4b59-8cce-ad0aabead7b9"
      },
      "outputs": [
        {
          "output_type": "execute_result",
          "data": {
            "text/plain": [
              "np.int64(1)"
            ]
          },
          "metadata": {},
          "execution_count": 64
        }
      ],
      "source": [
        "# Create matrix F and calculate its rank\n",
        "F=np.array([[2,4],[4,8]])\n",
        "matrix_rank(F)"
      ]
    },
    {
      "cell_type": "markdown",
      "metadata": {
        "id": "1HLTRc-XFz_e"
      },
      "source": [
        "We see the columns are pointing  in the same direction\n"
      ]
    },
    {
      "cell_type": "code",
      "execution_count": 65,
      "metadata": {
        "colab": {
          "base_uri": "https://localhost:8080/",
          "height": 506
        },
        "id": "4ruQv1ArFz_e",
        "outputId": "e886fc94-0e82-46d3-b91d-508bc5edfe2a"
      },
      "outputs": [
        {
          "output_type": "display_data",
          "data": {
            "text/plain": [
              "<Figure size 1200x700 with 1 Axes>"
            ],
            "image/png": "[encoded data removed]"
          },
          "metadata": {}
        }
      ],
      "source": [
        "# Plot the columns of F as vectors\n",
        "fig, ax = plt.subplots(figsize = (12, 7))\n",
        "ax.quiver([0, 0],[0, 0],F[0,1], F[1,1],scale=30,label=\"$f_{2}$\",color='red')\n",
        "ax.quiver([0, 0],[0, 0],F[0,0], F[1,0],scale=30,label=\"$f_{1}$\")\n",
        "plt.title(\"columns of $F$ \")\n",
        "plt.legend()\n",
        "plt.show()"
      ]
    },
    {
      "cell_type": "markdown",
      "metadata": {
        "id": "Z7lmQdLKFz_e"
      },
      "source": [
        "A common occurance is a matrix with more columns than rows, but in data, more rows than columns is more common. Consider the matrix $F$.\n"
      ]
    },
    {
      "cell_type": "code",
      "execution_count": 66,
      "metadata": {
        "colab": {
          "base_uri": "https://localhost:8080/",
          "height": 78
        },
        "id": "ZFmqBELbFz_e",
        "outputId": "2b160f24-3978-474f-bb51-773ea38c3d8f"
      },
      "outputs": [
        {
          "output_type": "execute_result",
          "data": {
            "text/plain": [
              "⎡1   2 ⎤\n",
              "⎢      ⎥\n",
              "⎢1   -2⎥\n",
              "⎢      ⎥\n",
              "⎣-1  1 ⎦"
            ],
            "text/latex": "$\\displaystyle \\left[\\begin{matrix}1 & 2\\\\1 & -2\\\\-1 & 1\\end{matrix}\\right]$"
          },
          "metadata": {},
          "execution_count": 66
        }
      ],
      "source": [
        "# Create matrix F with more rows than columns\n",
        "F=np.array([[1,2],[1,-2],[-1,1]])\n",
        "Matrix(F)"
      ]
    },
    {
      "cell_type": "markdown",
      "metadata": {
        "id": "3B923I_BFz_e"
      },
      "source": [
        "Although, the rows of matrix $F$ are 3 dimensions, you can only describe the point lying in the 2D plane, as shown here:\n"
      ]
    },
    {
      "cell_type": "code",
      "execution_count": 67,
      "metadata": {
        "colab": {
          "base_uri": "https://localhost:8080/",
          "height": 420
        },
        "id": "i63LNP_qFz_i",
        "outputId": "3bdd25df-d336-491b-be01-afdb90a8a8ff"
      },
      "outputs": [
        {
          "output_type": "display_data",
          "data": {
            "text/plain": [
              "<Figure size 640x480 with 1 Axes>"
            ],
            "image/png": "[encoded data removed]"
          },
          "metadata": {}
        }
      ],
      "source": [
        "# Plot the rows of matrix F and its null space\n",
        "ax = plt.figure().add_subplot(projection='3d')\n",
        "p=null_space(F.T)\n",
        "xx, yy = np.meshgrid(np.arange(-3,3,0.1), np.arange(-3,3,0.1))\n",
        "z=(p[0]*xx+p[1]*yy)/p[2]\n",
        "ax.plot_surface(xx, yy, z, alpha=0.1)\n",
        "ax.quiver([0,0], [0,0], [0,0], F[0,:], F[1,:], F[2,:])\n",
        "\n",
        "ax.set_xlim([-3, 3])\n",
        "ax.set_ylim([-3, 3])\n",
        "ax.set_zlim([-3, 3])\n",
        "plt.show()"
      ]
    },
    {
      "cell_type": "markdown",
      "metadata": {
        "id": "dw5cd2AkFz_i"
      },
      "source": [
        "Therefore, the rank is 2.\n"
      ]
    },
    {
      "cell_type": "code",
      "execution_count": 68,
      "metadata": {
        "colab": {
          "base_uri": "https://localhost:8080/"
        },
        "id": "SUErfLqXFz_i",
        "outputId": "685e9342-2cce-47fd-d575-99d1bbf12b2a"
      },
      "outputs": [
        {
          "output_type": "execute_result",
          "data": {
            "text/plain": [
              "np.int64(2)"
            ]
          },
          "metadata": {},
          "execution_count": 68
        }
      ],
      "source": [
        "# Calculate the rank of matrix F\n",
        "matrix_rank(F)"
      ]
    },
    {
      "cell_type": "markdown",
      "metadata": {
        "id": "T_wnkIzOFz_i"
      },
      "source": [
        "### Frobenius Norm of a Matrix\n"
      ]
    },
    {
      "cell_type": "markdown",
      "metadata": {
        "id": "2BM_lZlOFz_i"
      },
      "source": [
        "The Frobenius norm, sometimes also called the **Euclidean norm**, is the matrix norm of an $m×n$. Matrix A is defined as the square root of the sum of the absolute squares of its elements:\n",
        "\n",
        "$$|A| *F = \\sqrt{\\sum*{i=1}^m \\sum\\_{j=1}^n |a\\_{ij}|^2}$$\n",
        "\n",
        "Let's use the matrix A again as an example:\n"
      ]
    },
    {
      "cell_type": "code",
      "execution_count": 69,
      "metadata": {
        "colab": {
          "base_uri": "https://localhost:8080/",
          "height": 58
        },
        "id": "CB0Yi46IFz_i",
        "outputId": "d5811b95-7bec-4839-d1f2-2ea7ae4754d7"
      },
      "outputs": [
        {
          "output_type": "execute_result",
          "data": {
            "text/plain": [
              "⎛⎡2  -3⎤                   ⎞\n",
              "⎜⎢     ⎥, 8.831760866327848⎟\n",
              "⎝⎣4  7 ⎦                   ⎠"
            ],
            "text/latex": "$\\displaystyle \\left( \\left[\\begin{matrix}2 & -3\\\\4 & 7\\end{matrix}\\right], \\  8.83176086632785\\right)$"
          },
          "metadata": {},
          "execution_count": 69
        }
      ],
      "source": [
        "# Calculate the Frobenius norm of matrix A\n",
        "Matrix(A), norm(A)"
      ]
    },
    {
      "cell_type": "markdown",
      "metadata": {
        "id": "bsjCODU_Fz_j"
      },
      "source": [
        "You could also calculate the matrix norm manually, using the formula provided above, and confirm that the results are the same.\n"
      ]
    },
    {
      "cell_type": "code",
      "execution_count": 70,
      "metadata": {
        "colab": {
          "base_uri": "https://localhost:8080/",
          "height": 37
        },
        "id": "JSfmV4WZFz_j",
        "outputId": "1bc50ecd-bfb3-4c9c-9b51-6ffcf2485c02"
      },
      "outputs": [
        {
          "output_type": "execute_result",
          "data": {
            "text/plain": [
              "np.float64(8.831760866327848)"
            ],
            "text/latex": "$\\displaystyle 8.83176086632785$"
          },
          "metadata": {},
          "execution_count": 70
        }
      ],
      "source": [
        "# Manually calculate the Frobenius norm of matrix A\n",
        "m, n = A.shape[0], A.shape[1] # get number of rows and columns\n",
        "ss = 0\n",
        "\n",
        "for i in range(m):\n",
        "    for j in range(n):\n",
        "        ss += A[i,j] ** 2\n",
        "np.sqrt(ss)"
      ]
    },
    {
      "cell_type": "markdown",
      "metadata": {
        "id": "6oUtsaPOFz_j"
      },
      "source": [
        "### Matrix Addition\n"
      ]
    },
    {
      "cell_type": "markdown",
      "metadata": {
        "id": "TNt1OmZZFz_j"
      },
      "source": [
        "Consider matrix $B$:\n"
      ]
    },
    {
      "cell_type": "code",
      "execution_count": 71,
      "metadata": {
        "colab": {
          "base_uri": "https://localhost:8080/",
          "height": 58
        },
        "id": "K-T1ONw_Fz_j",
        "outputId": "a6ac4567-205e-4e23-aedb-fb91ae865258"
      },
      "outputs": [
        {
          "output_type": "execute_result",
          "data": {
            "text/plain": [
              "⎡1  1 ⎤\n",
              "⎢     ⎥\n",
              "⎣1  -1⎦"
            ],
            "text/latex": "$\\displaystyle \\left[\\begin{matrix}1 & 1\\\\1 & -1\\end{matrix}\\right]$"
          },
          "metadata": {},
          "execution_count": 71
        }
      ],
      "source": [
        "# Create matrix B\n",
        "B=np.array([[1,1],[1,-1]])\n",
        "Matrix(B)"
      ]
    },
    {
      "cell_type": "markdown",
      "metadata": {
        "id": "dkW82tmRFz_j"
      },
      "source": [
        "In general, if we have matrix $\\mathbf{A}$ and matrix $\\mathbf{B}$\n"
      ]
    },
    {
      "cell_type": "markdown",
      "metadata": {
        "id": "t6J-RNr1Fz_j"
      },
      "source": [
        "$\\begin{align}\n",
        "\\mathbf{A}= \\begin{bmatrix}\n",
        "a\\_{11} & a\\_{12} & \\cdots & a\\_{1n} \\\\\\\\\\\\\n",
        "a\\_{21} & a\\_{22} & \\cdots & a\\_{2n} \\\\\\\\\\\\\n",
        "\\vdots & \\vdots & \\ddots & \\vdots \\\\\\\\\\\\\n",
        "a\\_{m1} & a\\_{m2} & \\cdots & a\\_{mn} \\\\\\\\\\\\\n",
        "\\end{bmatrix}\n",
        "\\end{align}$\n",
        "$\\begin{align}\n",
        "\\mathbf{B}=\\begin{bmatrix}\n",
        "b\\_{11} & b\\_{12} & \\cdots & b\\_{1n} \\\\\\\\\\\\\n",
        "b\\_{21} & b\\_{22} & \\cdots & b\\_{2n} \\\\\\\\\\\\\n",
        "\\vdots & \\vdots & \\ddots & \\vdots \\\\\\\\\\\\\n",
        "b\\_{m1} & b\\_{m2} & \\cdots & b\\_{mn} \\\\\\\\\\\\\n",
        "\\end{bmatrix}\n",
        "\\end{align}$\n"
      ]
    },
    {
      "cell_type": "markdown",
      "metadata": {
        "id": "kS3jwZb4Fz_j"
      },
      "source": [
        "To be added, the two matrices must have an equal number of rows and columns, where we add the corresponding row and column element:\n"
      ]
    },
    {
      "cell_type": "markdown",
      "metadata": {
        "id": "iCReNFWOFz_k"
      },
      "source": [
        "$\\begin{align}\n",
        "\\mathbf{A}+\\mathbf{B}=\\begin{bmatrix}\n",
        "a\\_{11} + b\\_{11} & a\\_{12} + b\\_{12} & \\cdots & a\\_{1n} + b\\_{1n} \\\\\\\\\\\\\n",
        "a\\_{21} + b\\_{21} & a\\_{22} + b\\_{22} & \\cdots & a\\_{2n} + b\\_{2n} \\\\\\\\\\\\\n",
        "\\vdots & \\vdots & \\ddots & \\vdots \\\\\\\\\\\\\n",
        "a\\_{m1} + b\\_{m1} & a\\_{m2} + b\\_{m2} & \\cdots & a\\_{mn} + b\\_{mn} \\\\\\\\\\\\\n",
        "\\end{bmatrix}\n",
        "\\end{align}$\n"
      ]
    },
    {
      "cell_type": "markdown",
      "metadata": {
        "id": "aATHtbUXFz_k"
      },
      "source": [
        "In numpy, we can add two arrays as follows:\n"
      ]
    },
    {
      "cell_type": "code",
      "execution_count": 72,
      "metadata": {
        "colab": {
          "base_uri": "https://localhost:8080/",
          "height": 58
        },
        "id": "ZTtbyf16Fz_k",
        "outputId": "0b334a29-eb64-463d-bc67-04bc11acc166"
      },
      "outputs": [
        {
          "output_type": "execute_result",
          "data": {
            "text/plain": [
              "⎡3  -2⎤\n",
              "⎢     ⎥\n",
              "⎣5  6 ⎦"
            ],
            "text/latex": "$\\displaystyle \\left[\\begin{matrix}3 & -2\\\\5 & 6\\end{matrix}\\right]$"
          },
          "metadata": {},
          "execution_count": 72
        }
      ],
      "source": [
        "# Add matrices A and B\n",
        "C=A+B\n",
        "Matrix(C)"
      ]
    },
    {
      "cell_type": "markdown",
      "metadata": {
        "id": "sG_yIe8uFz_k"
      },
      "source": [
        "This matrix is symmetric. This means $B=B^{T}$, we can verify this in Python:\n"
      ]
    },
    {
      "cell_type": "code",
      "execution_count": 73,
      "metadata": {
        "colab": {
          "base_uri": "https://localhost:8080/",
          "height": 58
        },
        "id": "vJoil4iqFz_k",
        "outputId": "87464dd7-79d1-4ca8-a593-38f4b8fcbff5"
      },
      "outputs": [
        {
          "output_type": "execute_result",
          "data": {
            "text/plain": [
              "⎡1  1 ⎤\n",
              "⎢     ⎥\n",
              "⎣1  -1⎦"
            ],
            "text/latex": "$\\displaystyle \\left[\\begin{matrix}1 & 1\\\\1 & -1\\end{matrix}\\right]$"
          },
          "metadata": {},
          "execution_count": 73
        }
      ],
      "source": [
        "# Calculate the transpose of matrix B\n",
        "B_T=B.T\n",
        "Matrix(B_T)"
      ]
    },
    {
      "cell_type": "markdown",
      "metadata": {
        "id": "dZH5yIrhFz_k"
      },
      "source": [
        "Arbitrary semantic matrix $S=C+C^T$, where $C$ is any matrix.\n"
      ]
    },
    {
      "cell_type": "code",
      "execution_count": 74,
      "metadata": {
        "id": "Y6qMpNHyFz_k"
      },
      "outputs": [],
      "source": [
        "# Create a random matrix C and calculate a symmetric matrix S\n",
        "C=np.random.randn(2,2)\n",
        "S=C+C.T"
      ]
    },
    {
      "cell_type": "code",
      "execution_count": 75,
      "metadata": {
        "colab": {
          "base_uri": "https://localhost:8080/",
          "height": 58
        },
        "id": "Oowcez8cFz_k",
        "outputId": "224df10e-c66d-47b0-9df8-9070ad80ce0b"
      },
      "outputs": [
        {
          "output_type": "execute_result",
          "data": {
            "text/plain": [
              "⎡-3.97157013540882   -0.763632484946489⎤\n",
              "⎢                                      ⎥\n",
              "⎣-0.763632484946489   -4.5868298063698 ⎦"
            ],
            "text/latex": "$\\displaystyle \\left[\\begin{matrix}-3.97157013540882 & -0.763632484946489\\\\-0.763632484946489 & -4.5868298063698\\end{matrix}\\right]$"
          },
          "metadata": {},
          "execution_count": 75
        }
      ],
      "source": [
        "# Display the symmetric matrix S\n",
        "Matrix(S)"
      ]
    },
    {
      "cell_type": "code",
      "execution_count": 76,
      "metadata": {
        "colab": {
          "base_uri": "https://localhost:8080/",
          "height": 58
        },
        "id": "bAXGS2nsFz_l",
        "outputId": "71a3c2f0-d015-48a9-f1d7-f2c956b4d3cd"
      },
      "outputs": [
        {
          "output_type": "execute_result",
          "data": {
            "text/plain": [
              "⎡-3.97157013540882   -0.763632484946489⎤\n",
              "⎢                                      ⎥\n",
              "⎣-0.763632484946489   -4.5868298063698 ⎦"
            ],
            "text/latex": "$\\displaystyle \\left[\\begin{matrix}-3.97157013540882 & -0.763632484946489\\\\-0.763632484946489 & -4.5868298063698\\end{matrix}\\right]$"
          },
          "metadata": {},
          "execution_count": 76
        }
      ],
      "source": [
        "# Display the transpose of the symmetric matrix S\n",
        "Matrix(S.T)"
      ]
    },
    {
      "cell_type": "markdown",
      "metadata": {
        "id": "1CECu1_MFz_l"
      },
      "source": [
        "<b>Diagonal matrix</b> is a matrix in which the entries outside of the main diagonal are all zero.\n"
      ]
    },
    {
      "cell_type": "code",
      "execution_count": 77,
      "metadata": {
        "colab": {
          "base_uri": "https://localhost:8080/",
          "height": 78
        },
        "id": "RjnV27bPFz_l",
        "outputId": "93dbd047-bfa6-4eca-c19e-ec092f301139"
      },
      "outputs": [
        {
          "output_type": "execute_result",
          "data": {
            "text/plain": [
              "⎡1  0  0⎤\n",
              "⎢       ⎥\n",
              "⎢0  2  0⎥\n",
              "⎢       ⎥\n",
              "⎣0  0  3⎦"
            ],
            "text/latex": "$\\displaystyle \\left[\\begin{matrix}1 & 0 & 0\\\\0 & 2 & 0\\\\0 & 0 & 3\\end{matrix}\\right]$"
          },
          "metadata": {},
          "execution_count": 77
        }
      ],
      "source": [
        "# Create and display a diagonal matrix\n",
        "Matrix(np.diag(np.array([1,2,3])))"
      ]
    },
    {
      "cell_type": "markdown",
      "metadata": {
        "id": "2EDz0pEUFz_l"
      },
      "source": [
        "If the main diagonal is one, it's called a identity matrix in numpy.\n"
      ]
    },
    {
      "cell_type": "code",
      "execution_count": 78,
      "metadata": {
        "colab": {
          "base_uri": "https://localhost:8080/",
          "height": 78
        },
        "id": "cY98mZ4iFz_l",
        "outputId": "469bf978-ea0c-4946-c130-d788b51c2052"
      },
      "outputs": [
        {
          "output_type": "execute_result",
          "data": {
            "text/plain": [
              "⎡1.0  0.0  0.0⎤\n",
              "⎢             ⎥\n",
              "⎢0.0  1.0  0.0⎥\n",
              "⎢             ⎥\n",
              "⎣0.0  0.0  1.0⎦"
            ],
            "text/latex": "$\\displaystyle \\left[\\begin{matrix}1.0 & 0.0 & 0.0\\\\0.0 & 1.0 & 0.0\\\\0.0 & 0.0 & 1.0\\end{matrix}\\right]$"
          },
          "metadata": {},
          "execution_count": 78
        }
      ],
      "source": [
        "# Create and display an identity matrix\n",
        "Matrix(np.eye(3))"
      ]
    },
    {
      "cell_type": "markdown",
      "metadata": {
        "id": "HvJFrdcLFz_l"
      },
      "source": [
        "## Matrix and Vector Multiplication\n"
      ]
    },
    {
      "cell_type": "markdown",
      "metadata": {
        "id": "z1baXgewFz_l"
      },
      "source": [
        "### Dot-Product\n"
      ]
    },
    {
      "cell_type": "markdown",
      "metadata": {
        "id": "g4X0_2-TFz_m"
      },
      "source": [
        "We can define a vector as a one dimensional array of $\\mathbf{a}$ and $\\mathbf{b}$, and we can find the dot product of the two as follows:\n"
      ]
    },
    {
      "cell_type": "markdown",
      "metadata": {
        "id": "oksQhiWkFz_m"
      },
      "source": [
        "$ a^T  b = \\sum\\_{i=1}^n a_i b_i = a\\_1 b\\_1 + \\cdots + a_n b_n$\n"
      ]
    },
    {
      "cell_type": "markdown",
      "metadata": {
        "id": "5kGrygS1Fz_m"
      },
      "source": [
        "Where  $\\mathbf{a}$ and  $\\mathbf{b}$ have the same length, in numpy:\n"
      ]
    },
    {
      "cell_type": "code",
      "execution_count": 79,
      "metadata": {
        "id": "793eGZwdFz_m"
      },
      "outputs": [],
      "source": [
        "# Create two 1D numpy arrays (vectors)\n",
        "a=np.array([1,1])\n",
        "b=np.array([1,2])"
      ]
    },
    {
      "cell_type": "markdown",
      "metadata": {
        "id": "ZOQ6ee2rFz_m"
      },
      "source": [
        "We can verify that the dimension is one.\n"
      ]
    },
    {
      "cell_type": "code",
      "execution_count": 80,
      "metadata": {
        "colab": {
          "base_uri": "https://localhost:8080/",
          "height": 37
        },
        "id": "ewkDuswGFz_m",
        "outputId": "2d1c3d9e-5f3a-4b52-f1fa-a0473bbaa110"
      },
      "outputs": [
        {
          "output_type": "execute_result",
          "data": {
            "text/plain": [
              "1"
            ],
            "text/latex": "$\\displaystyle 1$"
          },
          "metadata": {},
          "execution_count": 80
        }
      ],
      "source": [
        "# Check the dimension of vector a\n",
        "a.ndim"
      ]
    },
    {
      "cell_type": "markdown",
      "metadata": {
        "id": "kqKeg35zFz_m"
      },
      "source": [
        "Find the dot product\n"
      ]
    },
    {
      "cell_type": "code",
      "execution_count": 81,
      "metadata": {
        "colab": {
          "base_uri": "https://localhost:8080/"
        },
        "id": "zvXcDGgXFz_m",
        "outputId": "4b291e07-bca9-426f-bdfd-d2fa304ff7db"
      },
      "outputs": [
        {
          "output_type": "execute_result",
          "data": {
            "text/plain": [
              "np.int64(3)"
            ]
          },
          "metadata": {},
          "execution_count": 81
        }
      ],
      "source": [
        "# Calculate the dot product of a and b\n",
        "a@b"
      ]
    },
    {
      "cell_type": "markdown",
      "metadata": {
        "id": "h-Gax3tRFz_m"
      },
      "source": [
        "If the array is 2- dimension, the order matters. $a^{T}$ must be a row vector of shape $1xm$ and $b$ a column vector of shape $mx1$.\n"
      ]
    },
    {
      "cell_type": "markdown",
      "metadata": {
        "id": "TmrCYe1kFz_n"
      },
      "source": [
        "$a^{T} = \\begin{bmatrix}\n",
        "a\\_{1},a\\_{2},..,a\\_{n}\n",
        "\\end{bmatrix}$\n",
        "\n",
        "$b = \\begin{bmatrix}\n",
        "b\\_{1} \\\\\\\\\\\\\n",
        "b\\_{2} \\\\\\\\\\\\\n",
        "\\vdots \\\\\\\\\\\\\n",
        "b\\_{n}\n",
        "\\end{bmatrix}$\n"
      ]
    },
    {
      "cell_type": "code",
      "execution_count": 82,
      "metadata": {
        "colab": {
          "base_uri": "https://localhost:8080/"
        },
        "id": "nkDUzqjcFz_n",
        "outputId": "c06f32a0-77d5-4caa-eced-5c6765b04501"
      },
      "outputs": [
        {
          "output_type": "execute_result",
          "data": {
            "text/plain": [
              "array([[3]])"
            ]
          },
          "metadata": {},
          "execution_count": 82
        }
      ],
      "source": [
        "# Calculate the dot product of 2D arrays a and b\n",
        "a=np.array([[1],[1]])\n",
        "b=np.array([[1],[2]])\n",
        "a.T@b"
      ]
    },
    {
      "cell_type": "markdown",
      "metadata": {
        "id": "aT4BJnJyFz_n"
      },
      "source": [
        "### Exercise 1\n",
        "\n",
        "Calculate the dot product of $a$ and $one$.\n"
      ]
    },
    {
      "cell_type": "code",
      "execution_count": 83,
      "metadata": {
        "id": "3as0cUaoFz_n"
      },
      "outputs": [],
      "source": [
        "# Exercise 1: Calculate the dot product of a and one\n",
        "one=np.ones(2)\n",
        "\n",
        "# TO DO"
      ]
    },
    {
      "cell_type": "markdown",
      "metadata": {
        "id": "EAxVjwMdFz_n"
      },
      "source": [
        "<details>\n",
        "    <summary>Click here for Solution</summary>\n",
        "\n",
        "```python\n",
        "a.T@one\n",
        "```\n",
        "\n",
        "</details>\n"
      ]
    },
    {
      "cell_type": "markdown",
      "metadata": {
        "id": "S9QPjOWJFz_n"
      },
      "source": [
        "### The Outer product\n"
      ]
    },
    {
      "cell_type": "markdown",
      "metadata": {
        "id": "k5Kq2O0AFz_n"
      },
      "source": [
        "The outer product is another useful matrix operation. Consider the matrix or vector $ \\mathbf{u}$ of size $nx1$ and matrix or vector $\\mathbf{v}$ $1xm$. Then their outer product is:\n"
      ]
    },
    {
      "cell_type": "markdown",
      "metadata": {
        "id": "_xnnBMCsFz_n"
      },
      "source": [
        "$\n",
        "\\mathbf{u} \\otimes \\mathbf{v} = \\mathbf{u}\\mathbf{v}^\\textsf{T} =\n",
        "\\begin{bmatrix}u\\_1 \\\\\\\\\\ u\\_2 \\ \\vdots\\ u_n\\end{bmatrix}\n",
        "\\begin{bmatrix}v\\_1 & .. & v_m\\end{bmatrix} =\n",
        "\\begin{bmatrix}\n",
        "u\\_1 v\\_1 & .. & u\\_1 v_m\\\\\\\\\\\\\n",
        "u\\_2 v\\_1 & u\\_2 v\\_2 & u\\_2 v\\_3 \\\\\\\\\\\\\n",
        "\\vdots   & \\ddots & \\vdots \\\\\\\\\\\\\n",
        "u_n v\\_1 &  .. & u_n v_m\n",
        "\\end{bmatrix}.\n",
        "$\n"
      ]
    },
    {
      "cell_type": "markdown",
      "metadata": {
        "id": "BtCL6cJmFz_o"
      },
      "source": [
        "We can perform the outer product in numpy as follows\n"
      ]
    },
    {
      "cell_type": "code",
      "execution_count": 84,
      "metadata": {
        "id": "LrfFV0oVFz_o"
      },
      "outputs": [],
      "source": [
        "# Exercise: Calculate the outer product of u and v\n",
        "u= np.array([[1],[2],[3],[4]])\n",
        "v= np.array([[0],[1],[2],[3],[6]])\n",
        "# TO DO"
      ]
    },
    {
      "cell_type": "markdown",
      "metadata": {
        "id": "KZy0MDiEFz_o"
      },
      "source": [
        "<details>\n",
        "    <summary>Click here for Solution</summary>\n",
        "\n",
        "```python\n",
        "Matrix(u@v.T)\n",
        "```\n",
        "\n",
        "</details>\n"
      ]
    },
    {
      "cell_type": "markdown",
      "metadata": {
        "id": "4bNcxL1aFz_o"
      },
      "source": [
        "### Exercise 2\n",
        "\n",
        "Create a matrix with 4 columns where each even column is  the vector  `u`  or else it is  zero, show the rank is one:\n"
      ]
    },
    {
      "cell_type": "code",
      "execution_count": 85,
      "metadata": {
        "id": "6yCD7iMKFz_o"
      },
      "outputs": [],
      "source": [
        "# Exercise 2: Create a matrix using outer product\n",
        "u=np.array([[1],[2]])\n",
        "# TO DO"
      ]
    },
    {
      "cell_type": "markdown",
      "metadata": {
        "id": "fzKVHaMnFz_o"
      },
      "source": [
        "<details>\n",
        "    <summary>Click here for Solution</summary>\n",
        "\n",
        "```python\n",
        "Matrix(u@np.array([[0,1,0,1]]))\n",
        "```\n",
        "\n",
        "</details>\n"
      ]
    },
    {
      "cell_type": "markdown",
      "metadata": {
        "id": "i3q0uNDCFz_o"
      },
      "source": [
        "### Matrix and Vector Multiplication\n"
      ]
    },
    {
      "cell_type": "markdown",
      "metadata": {
        "id": "h4folRgdFz_o"
      },
      "source": [
        "We can also multiply a matrix by a vector and get a new vector. Consider the vector $\\mathbf{x}$:\n"
      ]
    },
    {
      "cell_type": "markdown",
      "metadata": {
        "id": "tgdL21V4Fz_p"
      },
      "source": [
        "$\n",
        "\\mathbf{x}=\n",
        "\\begin{bmatrix}\n",
        "x\\_1 \\\\\\\\\\\\\n",
        "x\\_2 \\\\\\\\\\\\\n",
        "\\vdots \\\\\\\\\\\\\n",
        "x_n\n",
        "\\end{bmatrix}\n",
        "$\n"
      ]
    },
    {
      "cell_type": "markdown",
      "metadata": {
        "id": "hkvuKqSoFz_p"
      },
      "source": [
        "The following  $\\mathbf{Ax}=\\mathbf b$  matrix multiplication  is defined as the dot product  $\\mathbf{x}$ with each row of $\\mathbf{A}$ :\n"
      ]
    },
    {
      "cell_type": "markdown",
      "metadata": {
        "id": "LHww0hEIFz_p"
      },
      "source": [
        "$\n",
        "\\begin{matrix}a\\_{11}x\\_1+\\cdots + a\\_{1n}x_n=b\\_1\n",
        "\\\\\\\\\\ a\\_{21}x\\_1+\\cdots + a\\_{2n}x_n =b\\_2\n",
        "\\\\\\\\\\ \\vdots\n",
        "\\\\\\\\\\ a\\_{m1}x\\_1+\\cdots + a\\_{mn}x_n =b_m\\end{matrix}\n",
        "$\n"
      ]
    },
    {
      "cell_type": "markdown",
      "metadata": {
        "id": "piXwQGQhFz_p"
      },
      "source": [
        "Where ,\n"
      ]
    },
    {
      "cell_type": "markdown",
      "metadata": {
        "id": "EixSDne7Fz_p"
      },
      "source": [
        "$\n",
        "\\mathbf{b}=\n",
        "\\begin{bmatrix}\n",
        "b\\_1 \\\\\\\\\\\\\n",
        "b\\_2 \\\\\\\\\\\\\n",
        "\\vdots \\\\\\\\\\\\\n",
        "b_m\n",
        "\\end{bmatrix}\n",
        "$\n"
      ]
    },
    {
      "cell_type": "markdown",
      "metadata": {
        "id": "DJMLfmjjFz_p"
      },
      "source": [
        "In numpy:\n"
      ]
    },
    {
      "cell_type": "code",
      "execution_count": 86,
      "metadata": {
        "id": "EjuDaOP3Fz_p"
      },
      "outputs": [],
      "source": [
        "# Create vector x\n",
        "x=np.array([1,1])"
      ]
    },
    {
      "cell_type": "code",
      "execution_count": 87,
      "metadata": {
        "id": "U4wknP8vFz_p"
      },
      "outputs": [],
      "source": [
        "# Create matrix A\n",
        "A=np.array([[-1,1],[1,2]])"
      ]
    },
    {
      "cell_type": "code",
      "execution_count": 88,
      "metadata": {
        "colab": {
          "base_uri": "https://localhost:8080/",
          "height": 58
        },
        "id": "5C9zJYw1Fz_p",
        "outputId": "232166ae-2f13-420c-e719-6cf9452a15c2"
      },
      "outputs": [
        {
          "output_type": "execute_result",
          "data": {
            "text/plain": [
              "⎡0⎤\n",
              "⎢ ⎥\n",
              "⎣3⎦"
            ],
            "text/latex": "$\\displaystyle \\left[\\begin{matrix}0\\\\3\\end{matrix}\\right]$"
          },
          "metadata": {},
          "execution_count": 88
        }
      ],
      "source": [
        "# Perform matrix-vector multiplication\n",
        "b=A@x\n",
        "Matrix(b)"
      ]
    },
    {
      "cell_type": "markdown",
      "metadata": {
        "id": "HMh4_jFVFz_q"
      },
      "source": [
        "We can see that $b$ is a combination of the rows of $A$:\n",
        "\n",
        "$\\mathbf{b}=x\\_{1}\\mathbf{a}*{1}+\\mathbf{x}*{2}a\\_{2}$ or $\\mathbf{b}$ is a rotation of  $\\mathbf{x}$\n"
      ]
    },
    {
      "cell_type": "code",
      "execution_count": 89,
      "metadata": {
        "colab": {
          "base_uri": "https://localhost:8080/",
          "height": 505
        },
        "id": "kM2KQN_uFz_q",
        "outputId": "5e88f725-4495-4193-8506-11e3cff1b896"
      },
      "outputs": [
        {
          "output_type": "display_data",
          "data": {
            "text/plain": [
              "<Figure size 1200x700 with 1 Axes>"
            ],
            "image/png": "[encoded data removed]"
          },
          "metadata": {}
        }
      ],
      "source": [
        "# Plot vectors a1, a2, b, and x\n",
        "fig, ax = plt.subplots(figsize = (12, 7))\n",
        "ax.quiver([0, 0],[0, 0],A[0,0], A[1,0],scale=10,label=\"$a_{1}$\")\n",
        "ax.quiver([0, 0],[0, 0],A[0,1], A[1,1],scale=10,label=\"$a_{2}$\")\n",
        "ax.quiver([0,0],[0,0],b[0], b[1],scale=10,label=\"b\",color='r')\n",
        "ax.quiver([0,0],[0,0],x[0], x[1],scale=10,label=\"x\",color='b')\n",
        "ax.set_xlim([-10,10])\n",
        "ax.set_ylim([-5,10])\n",
        "fig.legend()\n",
        "plt.show()"
      ]
    },
    {
      "cell_type": "markdown",
      "metadata": {
        "id": "NX8H6kdqFz_q"
      },
      "source": [
        "### Multiplying Matrices\n"
      ]
    },
    {
      "cell_type": "markdown",
      "metadata": {
        "id": "_uJG-JbXFz_q"
      },
      "source": [
        "If a matrix $\\mathbf{C}$ is the product of matrix $\\mathbf{A}$ and matrix $\\mathbf{B}$, then the $i-th$ row $j-th$ column is obtained by multiplying term-by-term the entries of the $i-th$ row of $\\mathbf{A}$ and the $j-th$ column of $\\mathbf{B}$, and summing these $n$ products. In other words, you can also think of the  $i-th$ row $j-th$ column as the dot product of the $i-th$ row of $\\mathbf{A}$  and the $j-th$ column of $\\mathbf{B}$:\n"
      ]
    },
    {
      "cell_type": "markdown",
      "metadata": {
        "id": "8N49u_GwFz_q"
      },
      "source": [
        "$\\mathbf{C}=\\mathbf{AB}$\n",
        "\n",
        "$=\\begin{pmatrix}\n",
        "a\\_{11}b\\_{11} +\\cdots + a\\_{1n}b\\_{n1} & a\\_{11}b\\_{12} +\\cdots + a\\_{1n}b\\_{n2} & \\cdots & a\\_{11}b\\_{1p} +\\cdots + a\\_{1n}b\\_{np} \\\\\\\\\\\\\n",
        "a\\_{21}b\\_{11} +\\cdots + a\\_{2n}b\\_{n1} & a\\_{21}b\\_{12} +\\cdots + a\\_{2n}b\\_{n2} & \\cdots & a\\_{21}b\\_{1p} +\\cdots + a\\_{2n}b\\_{np} \\\\\\\\\\\\\n",
        "\\vdots & \\vdots & \\ddots & \\vdots \\\\\\\\\\\\\n",
        "a\\_{m1}b\\_{11} +\\cdots + a\\_{mn}b\\_{n1} & a\\_{m1}b\\_{12} +\\cdots + a\\_{mn}b\\_{n2} & \\cdots & a\\_{m1}b\\_{1p} +\\cdots + a\\_{mn}b\\_{np} \\\\\\\\\\\\\n",
        "\\end{pmatrix} $\n"
      ]
    },
    {
      "cell_type": "code",
      "execution_count": 90,
      "metadata": {
        "colab": {
          "base_uri": "https://localhost:8080/",
          "height": 58
        },
        "id": "Gdn9pbG4Fz_q",
        "outputId": "34e038f1-78d7-4f35-bb6e-f450ab8ec16e"
      },
      "outputs": [
        {
          "output_type": "execute_result",
          "data": {
            "text/plain": [
              "⎡0  -2⎤\n",
              "⎢     ⎥\n",
              "⎣3  -1⎦"
            ],
            "text/latex": "$\\displaystyle \\left[\\begin{matrix}0 & -2\\\\3 & -1\\end{matrix}\\right]$"
          },
          "metadata": {},
          "execution_count": 90
        }
      ],
      "source": [
        "# Perform matrix multiplication of A and B\n",
        "C=A@B\n",
        "Matrix(C)"
      ]
    },
    {
      "cell_type": "markdown",
      "metadata": {
        "id": "92sox-dXFz_q"
      },
      "source": [
        "You can repeat the process for more matrices, if the matrix is full rank, we can invert it: $\\mathbf{A}^{-1}$\n"
      ]
    },
    {
      "cell_type": "code",
      "execution_count": 91,
      "metadata": {
        "colab": {
          "base_uri": "https://localhost:8080/",
          "height": 58
        },
        "id": "w7UP5xdIFz_q",
        "outputId": "c046818a-1e4d-412b-ddba-df2c2c44657d"
      },
      "outputs": [
        {
          "output_type": "execute_result",
          "data": {
            "text/plain": [
              "⎡-0.666666666666667  0.333333333333333⎤\n",
              "⎢                                     ⎥\n",
              "⎣0.333333333333333   0.333333333333333⎦"
            ],
            "text/latex": "$\\displaystyle \\left[\\begin{matrix}-0.666666666666667 & 0.333333333333333\\\\0.333333333333333 & 0.333333333333333\\end{matrix}\\right]$"
          },
          "metadata": {},
          "execution_count": 91
        }
      ],
      "source": [
        "# Calculate the inverse of matrix A\n",
        "A_inv=inv(A)\n",
        "Matrix(A_inv)"
      ]
    },
    {
      "cell_type": "markdown",
      "metadata": {
        "id": "LtNCCWmgFz_r"
      },
      "source": [
        "This can be a complex computation. If we multiply a matrix with its inverse, we get the Identity matrix $\\mathbf{AA}^{-1}=I$.\n"
      ]
    },
    {
      "cell_type": "code",
      "execution_count": 92,
      "metadata": {
        "colab": {
          "base_uri": "https://localhost:8080/",
          "height": 58
        },
        "id": "7e-uarFVFz_r",
        "outputId": "48fb52aa-de52-437a-eb48-cefa1dbf5817"
      },
      "outputs": [
        {
          "output_type": "execute_result",
          "data": {
            "text/plain": [
              "⎡1.0  -1.11022302462516e-16⎤\n",
              "⎢                          ⎥\n",
              "⎣0.0           1.0         ⎦"
            ],
            "text/latex": "$\\displaystyle \\left[\\begin{matrix}1.0 & -1.11022302462516 \\cdot 10^{-16}\\\\0.0 & 1.0\\end{matrix}\\right]$"
          },
          "metadata": {},
          "execution_count": 92
        }
      ],
      "source": [
        "# Multiply A by its inverse to get the identity matrix\n",
        "I=A_inv@A\n",
        "Matrix(I)"
      ]
    },
    {
      "cell_type": "markdown",
      "metadata": {
        "id": "TpJcoiChFz_r"
      },
      "source": [
        "If we multiply any square matrix with an Identity matrix, we get the original Matrix, for example $IA=A$ in numpy:\n"
      ]
    },
    {
      "cell_type": "code",
      "execution_count": 93,
      "metadata": {
        "colab": {
          "base_uri": "https://localhost:8080/"
        },
        "id": "zN_S0yzpFz_r",
        "outputId": "e03b4100-37f0-41a5-b390-112d998d33f4"
      },
      "outputs": [
        {
          "output_type": "execute_result",
          "data": {
            "text/plain": [
              "array([[-1.,  1.],\n",
              "       [ 1.,  2.]])"
            ]
          },
          "metadata": {},
          "execution_count": 93
        }
      ],
      "source": [
        "# Multiply A by the identity matrix\n",
        "A@I"
      ]
    },
    {
      "cell_type": "markdown",
      "metadata": {
        "id": "cwzi0QfDFz_r"
      },
      "source": [
        "### Exercise 3\n",
        "\n",
        "Use the inverse of  matrix $\\mathbf{A}$ to solve for $\\mathbf{x}$ given $\\mathbf{b}$ and assign it to `x_` compare the result to `x`\n"
      ]
    },
    {
      "cell_type": "code",
      "execution_count": 94,
      "metadata": {
        "id": "-VDIyDHsFz_r"
      },
      "outputs": [],
      "source": [
        "# Exercise 3: Solve for x using the inverse of A\n",
        "# TO DO"
      ]
    },
    {
      "cell_type": "markdown",
      "metadata": {
        "id": "BxKynoVnFz_r"
      },
      "source": [
        "<details>\n",
        "    <summary>Click here for Solution</summary>\n",
        "\n",
        "```python\n",
        "x_=A_inv@b\n",
        "print(\"x_ :\",x_)\n",
        "print(\"x:\",x)\n",
        "```\n",
        "\n",
        "</details>\n"
      ]
    },
    {
      "cell_type": "markdown",
      "metadata": {
        "id": "uUWaEYVqFz_r"
      },
      "source": [
        "Another type of matrixes is the **orthogonal matrix**. An <b>orthogonal matrix</b> is extremely useful: if matrix $Q$ is orthogonal, such as $Q^T=Q^{-1}$, the rows and columns are orthogonal also. For example:\n"
      ]
    },
    {
      "cell_type": "code",
      "execution_count": 95,
      "metadata": {
        "colab": {
          "base_uri": "https://localhost:8080/"
        },
        "id": "bNsNghbMFz_r",
        "outputId": "a76dc74a-802f-4fdf-a9f9-0ffdb35620d0"
      },
      "outputs": [
        {
          "output_type": "execute_result",
          "data": {
            "text/plain": [
              "array([[ 0.70710678,  0.70710678],\n",
              "       [ 0.70710678, -0.70710678]])"
            ]
          },
          "metadata": {},
          "execution_count": 95
        }
      ],
      "source": [
        "# Create an orthogonal matrix Q\n",
        "Q=np.array([[1,1],[1,-1]])*2**(-1/2)\n",
        "Q"
      ]
    },
    {
      "cell_type": "markdown",
      "metadata": {
        "id": "g5-7ekFzFz_s"
      },
      "source": [
        "We can verify that $Q^T=Q^{-1}$:\n"
      ]
    },
    {
      "cell_type": "code",
      "execution_count": 96,
      "metadata": {
        "colab": {
          "base_uri": "https://localhost:8080/",
          "height": 58
        },
        "id": "Qkapu9f0Fz_s",
        "outputId": "d786d162-dd9f-44cf-cf14-5264f7862f7e"
      },
      "outputs": [
        {
          "output_type": "execute_result",
          "data": {
            "text/plain": [
              "⎡        1.0           4.26642158858964e-17⎤\n",
              "⎢                                          ⎥\n",
              "⎣4.26642158858964e-17          1.0         ⎦"
            ],
            "text/latex": "$\\displaystyle \\left[\\begin{matrix}1.0 & 4.26642158858964 \\cdot 10^{-17}\\\\4.26642158858964 \\cdot 10^{-17} & 1.0\\end{matrix}\\right]$"
          },
          "metadata": {},
          "execution_count": 96
        }
      ],
      "source": [
        "# Verify that Q is orthogonal (Q @ Q.T = Identity matrix)\n",
        "I=Q@Q.T\n",
        "Matrix(I)"
      ]
    },
    {
      "cell_type": "markdown",
      "metadata": {
        "id": "2Qve9QHKFz_s"
      },
      "source": [
        "For an <b>orthogonal matrix</b>, the columns are orthogonal:\n"
      ]
    },
    {
      "cell_type": "code",
      "execution_count": 97,
      "metadata": {
        "colab": {
          "base_uri": "https://localhost:8080/",
          "height": 506
        },
        "id": "37-83srdFz_s",
        "outputId": "0dc2a114-b62c-46c0-b928-f00175c3a496"
      },
      "outputs": [
        {
          "output_type": "display_data",
          "data": {
            "text/plain": [
              "<Figure size 1200x700 with 1 Axes>"
            ],
            "image/png": "[encoded data removed]"
          },
          "metadata": {}
        }
      ],
      "source": [
        "# Plot the columns of B as vectors (Note: This cell uses B instead of Q)\n",
        "fig, ax = plt.subplots(figsize = (12, 7))\n",
        "ax.quiver([0, 0],[0, 0],B[0,0], B[1,0],scale=10,label=\"$q_{1}$\")\n",
        "ax.quiver([0, 0],[0, 0],B[0,1], B[1,1],scale=10,label=\"$q_{2}$\")\n",
        "plt.title(\"columns of $B$ \")\n",
        "plt.legend()\n",
        "plt.show()"
      ]
    },
    {
      "cell_type": "markdown",
      "metadata": {
        "id": "NYYgOzSdFz_s"
      },
      "source": [
        "We usually place our data in a design matrix $X$, which is a matrix where each row represents an individual sample. Consider the following example `X_`\n"
      ]
    },
    {
      "cell_type": "code",
      "execution_count": 98,
      "metadata": {
        "colab": {
          "base_uri": "https://localhost:8080/"
        },
        "id": "ce-2ZCyQFz_s",
        "outputId": "490aa121-7a3a-4c60-943d-dacfb8d79609"
      },
      "outputs": [
        {
          "output_type": "execute_result",
          "data": {
            "text/plain": [
              "array([[12.0118189 , 12.25014694],\n",
              "       [13.529622  , 14.88563658],\n",
              "       [10.1119192 ,  9.48973981],\n",
              "       [11.26779235, 11.94466294],\n",
              "       [10.93465206, 11.38414441]])"
            ]
          },
          "metadata": {},
          "execution_count": 98
        }
      ],
      "source": [
        "# Create a design matrix X_ with samples\n",
        "samples=200\n",
        "\n",
        "u=np.array([[1.0,1.0],[0.10,-0.10]])/(2)**(0.5)\n",
        "\n",
        "X_=np.dot(4*np.random.randn(samples,2),u)+10\n",
        "X_[0:5]"
      ]
    },
    {
      "cell_type": "markdown",
      "metadata": {
        "id": "UnOlLkxwFz_s"
      },
      "source": [
        "We can plot the samples:\n"
      ]
    },
    {
      "cell_type": "code",
      "execution_count": 99,
      "metadata": {
        "colab": {
          "base_uri": "https://localhost:8080/",
          "height": 430
        },
        "id": "bATnTuPeFz_s",
        "outputId": "90cee8b1-e0ef-4d31-98ac-5f5d2a13e087"
      },
      "outputs": [
        {
          "output_type": "display_data",
          "data": {
            "text/plain": [
              "<Figure size 640x480 with 1 Axes>"
            ],
            "image/png": "[encoded data removed]"
          },
          "metadata": {}
        }
      ],
      "source": [
        "# Plot the samples from the design matrix X_\n",
        "dict_={\"design matrix samples\":X_}\n",
        "plot_2d(dict_)"
      ]
    },
    {
      "cell_type": "markdown",
      "metadata": {
        "id": "w_v7KBVBFz_t"
      },
      "source": [
        "We can find the shape of the design matrix:\n"
      ]
    },
    {
      "cell_type": "code",
      "execution_count": 100,
      "metadata": {
        "colab": {
          "base_uri": "https://localhost:8080/"
        },
        "id": "S2XdRb9XFz_t",
        "outputId": "caa98ecf-7ea9-4a91-e186-a93a7f067101"
      },
      "outputs": [
        {
          "output_type": "stream",
          "name": "stdout",
          "text": [
            "number of smaples 200, dimensions is 2\n"
          ]
        }
      ],
      "source": [
        "# Get the shape of the design matrix X_\n",
        "N,D=X_.shape\n",
        "print(\"number of smaples {}, dimensions is {}\".format(N,D))"
      ]
    },
    {
      "cell_type": "markdown",
      "metadata": {
        "id": "qKgXbYZdFz_t"
      },
      "source": [
        "We can also perform lots of operations with Matrix multiplication, for example we can calculate the mean with the following:\n"
      ]
    },
    {
      "cell_type": "code",
      "execution_count": 101,
      "metadata": {
        "colab": {
          "base_uri": "https://localhost:8080/"
        },
        "id": "dlZ3UsGRFz_t",
        "outputId": "68e600c5-ab09-4d67-d776-2639ac7a410c"
      },
      "outputs": [
        {
          "output_type": "execute_result",
          "data": {
            "text/plain": [
              "array([[10.25455981, 10.31374275]])"
            ]
          },
          "metadata": {},
          "execution_count": 101
        }
      ],
      "source": [
        "# Calculate the mean of X_ using matrix multiplication\n",
        "mean=(np.ones((1,N))/N)@X_\n",
        "mean"
      ]
    },
    {
      "cell_type": "markdown",
      "metadata": {
        "id": "y4IHqn_dFz_t"
      },
      "source": [
        "We can verify the result in numpy.\n"
      ]
    },
    {
      "cell_type": "code",
      "execution_count": 102,
      "metadata": {
        "colab": {
          "base_uri": "https://localhost:8080/"
        },
        "id": "fB68IbU2Fz_t",
        "outputId": "4d425a29-d5e8-4990-c5cd-b2bae71ac69d"
      },
      "outputs": [
        {
          "output_type": "execute_result",
          "data": {
            "text/plain": [
              "array([10.25455981, 10.31374275])"
            ]
          },
          "metadata": {},
          "execution_count": 102
        }
      ],
      "source": [
        "# Verify the mean of X_ using numpy's mean function\n",
        "X_.mean(axis=0)"
      ]
    },
    {
      "cell_type": "markdown",
      "metadata": {
        "tags": [],
        "id": "6mhxqpUBFz_t"
      },
      "source": [
        "### Exercise 4\n",
        "\n",
        "Perform matrix multiplication using **no_mean** and **X\\_**, save the result in **X**. Show the mean of **X** with respect to the rows is approximately zero:\n"
      ]
    },
    {
      "cell_type": "code",
      "execution_count": 103,
      "metadata": {
        "id": "NFtKfO0dFz_t"
      },
      "outputs": [],
      "source": [
        "# Create a matrix to subtract the mean\n",
        "I=np.identity(N)\n",
        "col1=np.ones((1,N))\n",
        "row1=np.ones((N,1))/N\n",
        "no_mean=(I-row1@col1)"
      ]
    },
    {
      "cell_type": "code",
      "execution_count": 104,
      "metadata": {
        "colab": {
          "base_uri": "https://localhost:8080/"
        },
        "id": "ozdK2e2dFz_t",
        "outputId": "7fc96867-e68a-49d1-a840-15ddb9dc6f8e"
      },
      "outputs": [
        {
          "output_type": "stream",
          "name": "stdout",
          "text": [
            "mean of X [-1.26121336e-15  1.48769885e-15]\n"
          ]
        }
      ],
      "source": [
        "# Exercise 4: Perform matrix multiplication to center the data\n",
        "X=no_mean@X_\n",
        "print(\"mean of X\",X.mean(axis=0))"
      ]
    },
    {
      "cell_type": "markdown",
      "metadata": {
        "id": "x0uQYDL7Fz_t"
      },
      "source": [
        "<details>\n",
        "    <summary>Click here for Solution</summary>\n",
        "\n",
        "```python\n",
        "X=no_mean@X_\n",
        "print(\"mean of X\",X.mean(axis=0))\n",
        "```\n",
        "\n",
        "</details>\n"
      ]
    },
    {
      "cell_type": "code",
      "execution_count": 105,
      "metadata": {
        "colab": {
          "base_uri": "https://localhost:8080/",
          "height": 450
        },
        "id": "VuNFejBeFz_u",
        "outputId": "7e27443d-9386-49f7-968d-52f9512c6cab"
      },
      "outputs": [
        {
          "output_type": "stream",
          "name": "stdout",
          "text": [
            "[[10.25455981 10.31374275]]\n"
          ]
        },
        {
          "output_type": "display_data",
          "data": {
            "text/plain": [
              "<Figure size 640x480 with 1 Axes>"
            ],
            "image/png": "[encoded data removed]"
          },
          "metadata": {}
        }
      ],
      "source": [
        "# Plot the original, zero-mean, and mean data\n",
        "dict_={\"original data\":X_,\"zero mean data\":X,\"mean\":mean}\n",
        "plot_2d(dict_)"
      ]
    },
    {
      "cell_type": "markdown",
      "metadata": {
        "id": "qw-QL3DtFz_u"
      },
      "source": [
        "As we subtracted the mean, we can calculate the empirical covariance matrix using matrix multiplication.\n"
      ]
    },
    {
      "cell_type": "markdown",
      "metadata": {
        "id": "2HcByB0nFz_u"
      },
      "source": [
        "$C=\\frac{1}{N}   \\mathbf{X}^T \\mathbf{X} $\n"
      ]
    },
    {
      "cell_type": "code",
      "execution_count": 106,
      "metadata": {
        "colab": {
          "base_uri": "https://localhost:8080/",
          "height": 58
        },
        "id": "U94-deMbFz_u",
        "outputId": "ec4bcec5-efc1-4a9d-a93d-93937148f495"
      },
      "outputs": [
        {
          "output_type": "execute_result",
          "data": {
            "text/plain": [
              "⎡9.43939197198978  9.4543783843658 ⎤\n",
              "⎢                                  ⎥\n",
              "⎣9.4543783843658   9.76977905131825⎦"
            ],
            "text/latex": "$\\displaystyle \\left[\\begin{matrix}9.43939197198978 & 9.4543783843658\\\\9.4543783843658 & 9.76977905131825\\end{matrix}\\right]$"
          },
          "metadata": {},
          "execution_count": 106
        }
      ],
      "source": [
        "# Calculate the empirical covariance matrix C\n",
        "C=X.T@X/N\n",
        "Matrix(C)"
      ]
    },
    {
      "cell_type": "markdown",
      "metadata": {
        "id": "wmuagJu5Fz_u"
      },
      "source": [
        "We can see the matrix is full rank:\n"
      ]
    },
    {
      "cell_type": "code",
      "execution_count": 107,
      "metadata": {
        "colab": {
          "base_uri": "https://localhost:8080/"
        },
        "id": "q_lKvO_DFz_u",
        "outputId": "3698cf15-b829-4186-859b-0f6f4b89bae2"
      },
      "outputs": [
        {
          "output_type": "execute_result",
          "data": {
            "text/plain": [
              "np.int64(2)"
            ]
          },
          "metadata": {},
          "execution_count": 107
        }
      ],
      "source": [
        "# Calculate the rank of the covariance matrix C\n",
        "matrix_rank(C)"
      ]
    },
    {
      "cell_type": "markdown",
      "metadata": {
        "tags": [],
        "id": "ceEtzzBOFz_u"
      },
      "source": [
        "## Eigen Decomposition\n"
      ]
    },
    {
      "cell_type": "markdown",
      "metadata": {
        "id": "Ar2ZAe5cFz_u"
      },
      "source": [
        "### Eigenvectors and Eigenvalues\n"
      ]
    },
    {
      "cell_type": "markdown",
      "metadata": {
        "id": "uQ3ZlfdKFz_u"
      },
      "source": [
        "If the Matrix is full rank we can apply Eigen factorization or Eigen decomposition to it, so that it is represented in terms of its eigenvalues $\\mathbf{\\Lambda}$ and eigenvectors embedded in $\\mathbf{Q}$, symbolically:\n"
      ]
    },
    {
      "cell_type": "markdown",
      "metadata": {
        "id": "nOtDkonaFz_v"
      },
      "source": [
        "$\\mathbf{A}=\\mathbf{Q}\\mathbf{\\Lambda}\\mathbf{Q}^{-1}$\n"
      ]
    },
    {
      "cell_type": "markdown",
      "metadata": {
        "id": "43O5AXD6Fz_v"
      },
      "source": [
        "We can obtain the Matrices as follows:\n"
      ]
    },
    {
      "cell_type": "code",
      "execution_count": 108,
      "metadata": {
        "id": "Uw7wfVckFz_v"
      },
      "outputs": [],
      "source": [
        "eigen_values , eigen_vectors = eig(A)"
      ]
    },
    {
      "cell_type": "markdown",
      "metadata": {
        "id": "Rex4H2GhFz_v"
      },
      "source": [
        "`eigen_values` is a vector so we convert it to a diagonal matrix  using the `np.diag` function\n"
      ]
    },
    {
      "cell_type": "code",
      "execution_count": 109,
      "metadata": {
        "colab": {
          "base_uri": "https://localhost:8080/",
          "height": 58
        },
        "id": "P1zSSTXaFz_v",
        "outputId": "f17eafc7-4441-4958-e508-bc082406f1c4"
      },
      "outputs": [
        {
          "output_type": "execute_result",
          "data": {
            "text/plain": [
              "⎡-1.30277563773199        0.0       ⎤\n",
              "⎢                                   ⎥\n",
              "⎣       0.0         2.30277563773199⎦"
            ],
            "text/latex": "$\\displaystyle \\left[\\begin{matrix}-1.30277563773199 & 0.0\\\\0.0 & 2.30277563773199\\end{matrix}\\right]$"
          },
          "metadata": {},
          "execution_count": 109
        }
      ],
      "source": [
        "# Display the diagonal matrix of eigenvalues\n",
        "Matrix(np.diag(eigen_values))"
      ]
    },
    {
      "cell_type": "markdown",
      "metadata": {
        "id": "Rc48Z6teFz_v"
      },
      "source": [
        "We can retrieve the original matrix as follows:\n"
      ]
    },
    {
      "cell_type": "code",
      "execution_count": 110,
      "metadata": {
        "colab": {
          "base_uri": "https://localhost:8080/",
          "height": 58
        },
        "id": "S2qmwv77Fz_v",
        "outputId": "40aeb0b9-9553-483a-bdaa-a146c8be4433"
      },
      "outputs": [
        {
          "output_type": "execute_result",
          "data": {
            "text/plain": [
              "⎡-1.0  1.0⎤\n",
              "⎢         ⎥\n",
              "⎣1.0   2.0⎦"
            ],
            "text/latex": "$\\displaystyle \\left[\\begin{matrix}-1.0 & 1.0\\\\1.0 & 2.0\\end{matrix}\\right]$"
          },
          "metadata": {},
          "execution_count": 110
        }
      ],
      "source": [
        "# Reconstruct the original matrix A from its eigen decomposition\n",
        "A=eigen_vectors@np.diag(eigen_values)@inv(eigen_vectors)\n",
        "Matrix(A)"
      ]
    },
    {
      "cell_type": "markdown",
      "metadata": {
        "id": "bl9IZSzSFz_v"
      },
      "source": [
        "## Factorization for PCA\n"
      ]
    },
    {
      "cell_type": "markdown",
      "metadata": {
        "id": "bNH88KhCFz_v"
      },
      "source": [
        "We can only use  eigen decomposition if the matrix is full rank, but even if the matrix is full rank, the eigenvalues and eigenvectors could be complex.\n",
        "\n",
        "A useful application of the symmetric matrix ($S=S^{T}$) is where we want the eigenvalues to be real and the eigenvectors to be orthogonal. For example, the covariance matrix $C$ in PCA.\n"
      ]
    },
    {
      "cell_type": "markdown",
      "metadata": {
        "id": "QnJ9dxIkFz_w"
      },
      "source": [
        "$\\mathbf{C}=\\mathbf{V}\\mathbf{\\Lambda}\\mathbf{V}^{T}$\n"
      ]
    },
    {
      "cell_type": "markdown",
      "metadata": {
        "id": "r5ASDpPOFz_w"
      },
      "source": [
        "Using numpy,\n"
      ]
    },
    {
      "cell_type": "code",
      "execution_count": 111,
      "metadata": {
        "id": "_7LUOmMiFz_w"
      },
      "outputs": [],
      "source": [
        "# Perform eigen decomposition of the covariance matrix C\n",
        "eigen_values , eigen_vectors = eig(C)"
      ]
    },
    {
      "cell_type": "markdown",
      "metadata": {
        "id": "_B5G5VA1Fz_w"
      },
      "source": [
        "We can perform PCA using factorization. To find the first principle component, we need to find the eigenvector with the largest eigenvalue.\n"
      ]
    },
    {
      "cell_type": "code",
      "execution_count": 112,
      "metadata": {
        "colab": {
          "base_uri": "https://localhost:8080/"
        },
        "id": "R1iWk6RdFz_w",
        "outputId": "84e6a760-646f-42e2-f267-8d11f04d480f"
      },
      "outputs": [
        {
          "output_type": "execute_result",
          "data": {
            "text/plain": [
              "array([[-0.70090298],\n",
              "       [-0.71325663]])"
            ]
          },
          "metadata": {},
          "execution_count": 112
        }
      ],
      "source": [
        "# Find the eigenvector corresponding to the largest eigenvalue\n",
        "v=eigen_vectors[:, np.argmax(eigen_values)].reshape(-1,1)\n",
        "v"
      ]
    },
    {
      "cell_type": "markdown",
      "metadata": {
        "id": "1uz7I73jFz_w"
      },
      "source": [
        "We can calculate first principal component by finding the projection of the original data onto $\\mathbf{v}$.\n"
      ]
    },
    {
      "cell_type": "markdown",
      "metadata": {
        "id": "0tFEp77hFz_w"
      },
      "source": [
        "$\\mathbf{Z}=\\mathbf{X} \\mathbf{v}$\n"
      ]
    },
    {
      "cell_type": "code",
      "execution_count": 113,
      "metadata": {
        "id": "ol5kgwAlFz_w"
      },
      "outputs": [],
      "source": [
        "# Calculate the first principal component Z\n",
        "Z=X@v"
      ]
    },
    {
      "cell_type": "markdown",
      "metadata": {
        "id": "fdqIkfmjFz_w"
      },
      "source": [
        "### Exercise 5\n",
        "\n",
        "Perform PCA with `n_components=1` on **X**. Store the transformed data in **X_transformed**. Also do an inverse_transform using the same fitted PCA object, store the result in **X\\_**.\n"
      ]
    },
    {
      "cell_type": "code",
      "execution_count": 114,
      "metadata": {
        "id": "byOBfaSxFz_x"
      },
      "outputs": [],
      "source": [
        "# Exercise 5: Perform PCA using sklearn\n",
        "pca = PCA(n_components=1)\n",
        "X_transformed=pca.fit_transform(X)\n",
        "X_=pca.inverse_transform(X_transformed)"
      ]
    },
    {
      "cell_type": "markdown",
      "metadata": {
        "id": "Kx5DprxeFz_x"
      },
      "source": [
        "<details>\n",
        "    <summary>Click here for Solution</summary>\n",
        "\n",
        "```python\n",
        "pca = PCA(n_components=1)\n",
        "X_transformed=pca.fit_transform(X)\n",
        "X_=pca.inverse_transform(X_transformed)\n",
        "\n",
        "```\n",
        "\n",
        "</details>\n"
      ]
    },
    {
      "cell_type": "markdown",
      "metadata": {
        "id": "KJezYIi6Fz_x"
      },
      "source": [
        "We can also  transform the data back to its original space, using matrix multiplication:\n"
      ]
    },
    {
      "cell_type": "markdown",
      "metadata": {
        "id": "x3sLlizbFz_x"
      },
      "source": [
        "$\\hat{X}=\\mathbf{Z} \\mathbf{v}^T$\n"
      ]
    },
    {
      "cell_type": "markdown",
      "metadata": {
        "id": "N-4VaT_0Fz_x"
      },
      "source": [
        "### Exercise 6\n",
        "\n",
        "Find the transform data back to its original space from the above equation, call it **Xhat**.\n"
      ]
    },
    {
      "cell_type": "code",
      "execution_count": 115,
      "metadata": {
        "id": "P5z8UoEfFz_x"
      },
      "outputs": [],
      "source": [
        "# Exercise 6: Transform data back to original space using matrix multiplication\n",
        "Xhat=Z@v.T"
      ]
    },
    {
      "cell_type": "markdown",
      "metadata": {
        "id": "fQMOJQsOFz_x"
      },
      "source": [
        "<details>\n",
        "    <summary>Click here for Solution</summary>\n",
        "\n",
        "```python\n",
        "Xhat=Z@v.T\n",
        "```\n",
        "\n",
        "</details>\n"
      ]
    },
    {
      "cell_type": "markdown",
      "metadata": {
        "id": "KhbhON_dFz_x"
      },
      "source": [
        "You can also check that the two methods give the same \"inverse transform\" result (**X\\_** and **Xhat** will overlap in the plot) by running the following cell.\n"
      ]
    },
    {
      "cell_type": "code",
      "execution_count": 116,
      "metadata": {
        "colab": {
          "base_uri": "https://localhost:8080/",
          "height": 447
        },
        "id": "2f900qQEFz_x",
        "outputId": "b8943bda-77fe-4069-ae03-e07e11dba981"
      },
      "outputs": [
        {
          "output_type": "stream",
          "name": "stdout",
          "text": [
            "[[-0.70090298 -0.71325663]]\n"
          ]
        },
        {
          "output_type": "display_data",
          "data": {
            "text/plain": [
              "<Figure size 640x480 with 1 Axes>"
            ],
            "image/png": "[encoded data removed]"
          },
          "metadata": {}
        }
      ],
      "source": [
        "# Plot the results of sklearn and matrix inverse transform\n",
        "dict_ = {\"Sklearn inverse_transform\": X_, \"Matrix inverse transform\": Xhat, \"First Principal Component\": v.T}\n",
        "plot_2d(dict_)"
      ]
    },
    {
      "cell_type": "markdown",
      "metadata": {
        "id": "LAOKRcwZFz_y"
      },
      "source": [
        "# Congratulations! - You have completed the lab\n"
      ]
    },
    {
      "cell_type": "markdown",
      "metadata": {
        "id": "ne3EKD3sFz_y"
      },
      "source": [
        "## Authors\n"
      ]
    },
    {
      "cell_type": "markdown",
      "metadata": {
        "id": "VO7eJSxwFz_y"
      },
      "source": [
        "<a href=\"https://www.linkedin.com/in/joseph-s-50398b136/?utm_medium=Exinfluencer&utm_source=Exinfluencer&utm_content=000026UJ&utm_term=10006555&utm_id=NA-SkillsNetwork-Channel-SkillsNetworkCoursesIBMDeveloperSkillsNetworkML0101ENSkillsNetwork20718538-2021-01-01\" target=\"_blank\">Joseph Santarcangelo</a> Joseph has a Ph.D. in Electrical Engineering, his research focused on using machine learning, signal processing, and computer vision to determine how videos impact human cognition. Joseph has been working for IBM since he completed his PhD.\n"
      ]
    },
    {
      "cell_type": "markdown",
      "metadata": {
        "id": "vUXZTrSXFz_y"
      },
      "source": [
        "### Other Contributors\n"
      ]
    },
    {
      "cell_type": "markdown",
      "metadata": {
        "id": "foo_vKMAFz_y"
      },
      "source": [
        "[Roxanne Li](https://www.linkedin.com/in/roxanne-li/?utm_medium=Exinfluencer&utm_source=Exinfluencer&utm_content=000026UJ&utm_term=10006555&utm_id=NA-SkillsNetwork-Channel-SkillsNetworkCoursesIBMML0187ENSkillsNetwork31430127-2022-01-01) is a Data Science intern at IBM Skills Network, entering level-5 study in the Mathematics & Statistics undergraduate Coop program at McMaster University.\n"
      ]
    },
    {
      "cell_type": "markdown",
      "metadata": {
        "id": "--SbdNbsFz_y"
      },
      "source": [
        "## Change Log\n"
      ]
    },
    {
      "cell_type": "markdown",
      "metadata": {
        "id": "rujGaVhEFz_y"
      },
      "source": [
        "| Date (YYYY-MM-DD) | Version | Changed By  | Change Description  |\n",
        "| ----------------- | ------- | ----------- | ------------------- |\n",
        "| 2022-03-25        | 0.1     | Joseph S.   | Updated all content |\n",
        "| 2022-05-26        | 0.1     | Roxanne Li  | Review and edit     |\n",
        "| 2022-06-09        | 0.1     | Steve H.    | QA pass             |\n",
        "| 2022-07-15        | 0.1     | Svitlana K. | Review and edit     |\n"
      ]
    },
    {
      "cell_type": "markdown",
      "metadata": {
        "id": "oV5CN70eFz_y"
      },
      "source": [
        "Copyright © 2021 IBM Corporation. All rights reserved.\n"
      ]
    }
  ],
  "metadata": {
    "kernelspec": {
      "display_name": "Python",
      "language": "python",
      "name": "conda-env-python-py"
    },
    "language_info": {
      "name": ""
    },
    "colab": {
      "provenance": []
    }
  },
  "nbformat": 4,
  "nbformat_minor": 0
}